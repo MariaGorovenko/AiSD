{
 "cells": [
  {
   "cell_type": "code",
   "execution_count": 180,
   "id": "1dacafbe",
   "metadata": {},
   "outputs": [
    {
     "name": "stdout",
     "output_type": "stream",
     "text": [
      "0\n",
      "1\n",
      "2\n",
      "3\n",
      "4\n",
      "5\n",
      "the list is over\n"
     ]
    }
   ],
   "source": [
    "# 6.1.1\n",
    "l1 = iter([0,1,2,3,4,5])\n",
    "try:\n",
    "    while True:\n",
    "        print(next(l1))\n",
    "except StopIteration:\n",
    "    print('the list is over')"
   ]
  },
  {
   "cell_type": "code",
   "execution_count": null,
   "id": "40b89a2c",
   "metadata": {},
   "outputs": [],
   "source": [
    "# 6.1.2\n",
    "def cathetus_2(c1,h):\n",
    "    try:\n",
    "        assert str(c1).isdigit() == True and str(h).isdigit() == True, 'invalid argument'\n",
    "        assert h > c1, 'cathetus must be less than hypotenuse'\n",
    "        c2 = (h**2 - c1**2)**0.5\n",
    "        print(c2)\n",
    "    except AssertionError as err:\n",
    "        print(err)"
   ]
  },
  {
   "cell_type": "code",
   "execution_count": 182,
   "id": "53200079",
   "metadata": {},
   "outputs": [
    {
     "name": "stdout",
     "output_type": "stream",
     "text": [
      "4.0\n"
     ]
    }
   ],
   "source": [
    "cathetus_2(3,5)"
   ]
  },
  {
   "cell_type": "code",
   "execution_count": 183,
   "id": "fd24cf3b",
   "metadata": {},
   "outputs": [
    {
     "name": "stdout",
     "output_type": "stream",
     "text": [
      "cathetus must be less than hypotenuse\n"
     ]
    }
   ],
   "source": [
    "cathetus_2(5,3)"
   ]
  },
  {
   "cell_type": "code",
   "execution_count": 184,
   "id": "86eca4b4",
   "metadata": {},
   "outputs": [
    {
     "name": "stdout",
     "output_type": "stream",
     "text": [
      "invalid argument\n"
     ]
    }
   ],
   "source": [
    "cathetus_2(5,'abc')"
   ]
  },
  {
   "cell_type": "code",
   "execution_count": 19,
   "id": "1b03ce61",
   "metadata": {},
   "outputs": [],
   "source": [
    "# 6.1.3\n",
    "def cathetus_2_():\n",
    "    try:\n",
    "        c1 = int(input('enter cathetus_1: '))\n",
    "        h = int(input('enter hypothesis: '))\n",
    "        assert h > c1, 'cathetus must be less than hypotenuse'\n",
    "        c2 = (h**2 - c1**2)**0.5\n",
    "        print(c2)\n",
    "    except AssertionError as err:\n",
    "        print(err)\n",
    "    except ValueError:\n",
    "        print('invalid argument')"
   ]
  },
  {
   "cell_type": "code",
   "execution_count": 20,
   "id": "7026b91b",
   "metadata": {
    "scrolled": true
   },
   "outputs": [
    {
     "name": "stdout",
     "output_type": "stream",
     "text": [
      "enter cathetus_1: 3\n",
      "enter hypothesis: 5\n",
      "4.0\n"
     ]
    }
   ],
   "source": [
    "cathetus_2_()"
   ]
  },
  {
   "cell_type": "code",
   "execution_count": 18,
   "id": "744a9d96",
   "metadata": {},
   "outputs": [
    {
     "name": "stdout",
     "output_type": "stream",
     "text": [
      "enter cathetus_1: 5\n",
      "enter hypothesis: abc\n",
      "invalid argument\n"
     ]
    }
   ],
   "source": [
    "cathetus_2_()"
   ]
  },
  {
   "cell_type": "code",
   "execution_count": 21,
   "id": "366df33d",
   "metadata": {
    "scrolled": true
   },
   "outputs": [
    {
     "name": "stdout",
     "output_type": "stream",
     "text": [
      "enter file name: file_6.1.4\n",
      "String1\n",
      "\n"
     ]
    }
   ],
   "source": [
    "# 6.1.4\n",
    "f1 = open('file_6.1.4', mode = 'w')\n",
    "f1.write('String1\\nString2')\n",
    "f1.close()\n",
    "s = input('enter file name: ')\n",
    "try:\n",
    "    with open(s, 'r') as f:\n",
    "        print(f.readline())\n",
    "except FileNotFoundError:\n",
    "    print('no such file exists')"
   ]
  },
  {
   "cell_type": "code",
   "execution_count": 188,
   "id": "4757eba4",
   "metadata": {},
   "outputs": [],
   "source": [
    "# 6.2.1\n",
    "def file():\n",
    "    name = input('enter file name: ')\n",
    "    try:\n",
    "        with open(name, 'w') as f:\n",
    "            while True:\n",
    "                sr = input('enter string: ')\n",
    "                if sr != '':\n",
    "                    f.write(sr)\n",
    "                    f.write('\\n')\n",
    "                else:\n",
    "                    break\n",
    "        with open(name, 'r') as f:\n",
    "            print(f.read())   \n",
    "    except FileExistsError:\n",
    "        print('such a file already exists')"
   ]
  },
  {
   "cell_type": "code",
   "execution_count": 189,
   "id": "fb89be0c",
   "metadata": {},
   "outputs": [
    {
     "name": "stdout",
     "output_type": "stream",
     "text": [
      "enter file name: file_6.2.1\n",
      "enter string: String1\n",
      "enter string: String2\n",
      "enter string: String3\n",
      "enter string: \n",
      "String1\n",
      "String2\n",
      "String3\n",
      "\n"
     ]
    }
   ],
   "source": [
    "file()"
   ]
  },
  {
   "cell_type": "code",
   "execution_count": 190,
   "id": "3e3b58e4",
   "metadata": {},
   "outputs": [],
   "source": [
    "# 6.2.2\n",
    "f2 = open('file_6.2.2', mode = 'w')\n",
    "f2.write('File\\nstring1\\nstring2\\nstring3')\n",
    "f2.close()"
   ]
  },
  {
   "cell_type": "code",
   "execution_count": 191,
   "id": "d1191288",
   "metadata": {},
   "outputs": [],
   "source": [
    "def file_2(f, n=None):\n",
    "    with open(f,'r') as f:\n",
    "        if n == None:\n",
    "            print(f.read())\n",
    "        else:\n",
    "            for index,line in enumerate(f):\n",
    "                for i in range(n):\n",
    "                    if i == index:\n",
    "                        print(line)"
   ]
  },
  {
   "cell_type": "code",
   "execution_count": 192,
   "id": "0d0efd13",
   "metadata": {},
   "outputs": [
    {
     "name": "stdout",
     "output_type": "stream",
     "text": [
      "File\n",
      "string1\n",
      "string2\n",
      "string3\n"
     ]
    }
   ],
   "source": [
    "file_2('file_6.2.2')"
   ]
  },
  {
   "cell_type": "code",
   "execution_count": 193,
   "id": "668892a3",
   "metadata": {},
   "outputs": [
    {
     "name": "stdout",
     "output_type": "stream",
     "text": [
      "File\n",
      "\n"
     ]
    }
   ],
   "source": [
    "file_2('file_6.2.2', n=1)"
   ]
  },
  {
   "cell_type": "code",
   "execution_count": 194,
   "id": "7c065f30",
   "metadata": {},
   "outputs": [
    {
     "name": "stdout",
     "output_type": "stream",
     "text": [
      "File\n",
      "\n",
      "string1\n",
      "\n",
      "string2\n",
      "\n"
     ]
    }
   ],
   "source": [
    "file_2('file_6.2.2', n=3)"
   ]
  },
  {
   "cell_type": "code",
   "execution_count": 195,
   "id": "1ec78cfc",
   "metadata": {},
   "outputs": [],
   "source": [
    "# 6.2.3\n",
    "f3 = open('file_6.2.3', mode = 'w')\n",
    "f3.write('File is small\\nstring1 is big\\nstring2\\nstring3')\n",
    "f3.close()"
   ]
  },
  {
   "cell_type": "code",
   "execution_count": 22,
   "id": "165485e4",
   "metadata": {},
   "outputs": [],
   "source": [
    "import re\n",
    "def statistics():\n",
    "    l = []\n",
    "    with open('file_6.2.3', 'r') as f:\n",
    "        for index,line in enumerate(f):\n",
    "            l.extend(re.split(' ', line))\n",
    "            dct = {i:l.count(i) for i in l}\n",
    "    return dct"
   ]
  },
  {
   "cell_type": "code",
   "execution_count": 23,
   "id": "15db18c0",
   "metadata": {},
   "outputs": [
    {
     "data": {
      "text/plain": [
       "{'File': 1,\n",
       " 'is': 2,\n",
       " 'small\\n': 1,\n",
       " 'string1': 1,\n",
       " 'big\\n': 1,\n",
       " 'string2\\n': 1,\n",
       " 'string3': 1}"
      ]
     },
     "execution_count": 23,
     "metadata": {},
     "output_type": "execute_result"
    }
   ],
   "source": [
    "statistics()"
   ]
  },
  {
   "cell_type": "code",
   "execution_count": 11,
   "id": "39978eab",
   "metadata": {},
   "outputs": [],
   "source": [
    "# 6.2.4 ???\n",
    "import pickle\n",
    "import re\n",
    "def statistics():\n",
    "    l = []\n",
    "    with open('file_6.2.3', 'r') as f:\n",
    "        for index,line in enumerate(f):\n",
    "            l.extend(re.split(' ', line))\n",
    "            dct = {i:l.count(i) for i in l}\n",
    "    with open('file_6.2.4', 'wb') as f:\n",
    "        pickle.dump(dct, f)\n",
    "        print(f.read())"
   ]
  }
 ],
 "metadata": {
  "kernelspec": {
   "display_name": "Python 3 (ipykernel)",
   "language": "python",
   "name": "python3"
  },
  "language_info": {
   "codemirror_mode": {
    "name": "ipython",
    "version": 3
   },
   "file_extension": ".py",
   "mimetype": "text/x-python",
   "name": "python",
   "nbconvert_exporter": "python",
   "pygments_lexer": "ipython3",
   "version": "3.11.4"
  }
 },
 "nbformat": 4,
 "nbformat_minor": 5
}
