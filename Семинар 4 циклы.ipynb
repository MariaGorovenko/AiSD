{
 "cells": [
  {
   "cell_type": "code",
   "execution_count": 3,
   "id": "09f3f4a3",
   "metadata": {},
   "outputs": [
    {
     "name": "stdout",
     "output_type": "stream",
     "text": [
      "['b', 'c', 'd', 'f', 'b']\n",
      "['s', 'b', 's', 'b', 'a']\n",
      "bb\n"
     ]
    }
   ],
   "source": [
    "# 1)\n",
    "import random\n",
    "a = random.choices('abcdefg',k=5)\n",
    "b = random.choices('absdefg',k=5)\n",
    "print(a)\n",
    "print(b)\n",
    "s = ''\n",
    "for i in range(0,5):\n",
    "    if a[i] in b:\n",
    "        s += a[i]\n",
    "print(s)"
   ]
  },
  {
   "cell_type": "code",
   "execution_count": 19,
   "id": "613031d9",
   "metadata": {},
   "outputs": [
    {
     "name": "stdout",
     "output_type": "stream",
     "text": [
      "Введите число: 7\n",
      "Двойной факториал = 105\n"
     ]
    }
   ],
   "source": [
    "# 2)\n",
    "n = int(input('Введите число: '))\n",
    "f = 1\n",
    "i = 1\n",
    "while i <= n:\n",
    "    f *= i\n",
    "    i += 2\n",
    "print(f'Двойной факториал = {f}')"
   ]
  },
  {
   "cell_type": "code",
   "execution_count": 21,
   "id": "eb50ea03",
   "metadata": {},
   "outputs": [
    {
     "name": "stdout",
     "output_type": "stream",
     "text": [
      "Введите число: 7\n",
      "Двойной факториал = 105\n"
     ]
    }
   ],
   "source": [
    "# 3)\n",
    "n = int(input('Введите число: '))\n",
    "f = 1\n",
    "for i in range(1,n+1,2):\n",
    "    f *= i\n",
    "print(f'Двойной факториал = {f}')"
   ]
  },
  {
   "cell_type": "code",
   "execution_count": 23,
   "id": "7af2d266",
   "metadata": {},
   "outputs": [
    {
     "name": "stdout",
     "output_type": "stream",
     "text": [
      "Введите начальное значение интервала 1\n",
      "Введите конечное значение интервала 7\n",
      "1\n",
      "2\n",
      "3\n",
      "4\n",
      "5\n",
      "6\n",
      "7\n"
     ]
    }
   ],
   "source": [
    "# 4)\n",
    "a = int(input('Введите начальное значение интервала '))\n",
    "b = int(input('Введите конечное значение интервала '))\n",
    "for i in range(a,b+1):\n",
    "    print(i)\n"
   ]
  },
  {
   "cell_type": "code",
   "execution_count": 29,
   "id": "16d989e0",
   "metadata": {},
   "outputs": [
    {
     "name": "stdout",
     "output_type": "stream",
     "text": [
      "Введите строку Hello world!\n",
      "Hell !"
     ]
    }
   ],
   "source": [
    "# 6)\n",
    "s = input('Введите строку ')\n",
    "for i in range(0,len(s)+1):\n",
    "    if len(s) % (i+1) == 0:\n",
    "        print(s[i], end = '')"
   ]
  },
  {
   "cell_type": "code",
   "execution_count": 48,
   "id": "cae58f50",
   "metadata": {
    "scrolled": true
   },
   "outputs": [
    {
     "name": "stdout",
     "output_type": "stream",
     "text": [
      "Введите строку Hello world\n",
      "Введите слово HERD\n",
      "1 символ встречается в строке поиска: Herd\n",
      "2 символ встречается в строке поиска: hErd\n",
      "9 символ встречается в строке поиска: heRd\n",
      "11 символ встречается в строке поиска: herD\n"
     ]
    }
   ],
   "source": [
    "# 7)\n",
    "a = input('Введите строку ')\n",
    "b = input('Введите слово ')\n",
    "a1 = a.lower()\n",
    "b1 = b.lower()\n",
    "b2 = ''\n",
    "for i in range(0,len(a)):\n",
    "    if a1[i] in b1:\n",
    "        b2 = b1[0:b1.find(a1[i])] + b1[b1.find(a1[i])].upper() + b1[b1.find(a1[i])+1:]\n",
    "        print(f'{i+1} символ встречается в строке поиска: {b2}')"
   ]
  }
 ],
 "metadata": {
  "kernelspec": {
   "display_name": "Python 3 (ipykernel)",
   "language": "python",
   "name": "python3"
  },
  "language_info": {
   "codemirror_mode": {
    "name": "ipython",
    "version": 3
   },
   "file_extension": ".py",
   "mimetype": "text/x-python",
   "name": "python",
   "nbconvert_exporter": "python",
   "pygments_lexer": "ipython3",
   "version": "3.11.4"
  }
 },
 "nbformat": 4,
 "nbformat_minor": 5
}
