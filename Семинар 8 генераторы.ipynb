{
 "cells": [
  {
   "cell_type": "code",
   "execution_count": 61,
   "id": "3600c037",
   "metadata": {},
   "outputs": [],
   "source": [
    "l1 = ['1','123','123','12','1','123']\n",
    "l2 = [2,4,-2,-3,0,11,3,-1]\n",
    "d4 = {1:10, 2:20, 3:30, 4:40, 5:50, 6:60}\n",
    "d5 = {'a':3, 'b':4, 'c':5, 'd':6, 'e':7, 'f':21, 'g':9}\n",
    "d6 = {'e':20, 'f':21, 'g':22, 'h':23, 'i':24, 'j':25, 'k':26, 'l':27}"
   ]
  },
  {
   "cell_type": "code",
   "execution_count": 23,
   "id": "864bb45a",
   "metadata": {},
   "outputs": [
    {
     "data": {
      "text/plain": [
       "[1, 3, 3, 2, 1, 3]"
      ]
     },
     "execution_count": 23,
     "metadata": {},
     "output_type": "execute_result"
    }
   ],
   "source": [
    "# 1)\n",
    "lst1 = [len(i) for i in l1]\n",
    "lst1"
   ]
  },
  {
   "cell_type": "code",
   "execution_count": 24,
   "id": "d93e8700",
   "metadata": {},
   "outputs": [
    {
     "data": {
      "text/plain": [
       "3"
      ]
     },
     "execution_count": 24,
     "metadata": {},
     "output_type": "execute_result"
    }
   ],
   "source": [
    "# 2)\n",
    "lst2 = [i for i in l1 if len(i) > 2]\n",
    "len(lst2)"
   ]
  },
  {
   "cell_type": "code",
   "execution_count": 19,
   "id": "b6afdb52",
   "metadata": {},
   "outputs": [
    {
     "data": {
      "text/plain": [
       "[2, 8, -6, -12, 0, 66, 21, -8]"
      ]
     },
     "execution_count": 19,
     "metadata": {},
     "output_type": "execute_result"
    }
   ],
   "source": [
    "# 3)\n",
    "lst3 = [l2[i]*(i+1) for i in range(len(l2))]\n",
    "lst3"
   ]
  },
  {
   "cell_type": "code",
   "execution_count": 25,
   "id": "9a692441",
   "metadata": {},
   "outputs": [
    {
     "data": {
      "text/plain": [
       "[2, 4, 0, 11, 3]"
      ]
     },
     "execution_count": 25,
     "metadata": {},
     "output_type": "execute_result"
    }
   ],
   "source": [
    "# 4)\n",
    "lst4 = [i for i in l2 if i >= 0]\n",
    "lst4"
   ]
  },
  {
   "cell_type": "code",
   "execution_count": 27,
   "id": "5b9cc6d1",
   "metadata": {},
   "outputs": [
    {
     "data": {
      "text/plain": [
       "[2, 4, 3, 4, 0, 11, 3, 8]"
      ]
     },
     "execution_count": 27,
     "metadata": {},
     "output_type": "execute_result"
    }
   ],
   "source": [
    "# 5)\n",
    "lst5 = [l2[i] if l2[i] >= 0 else i+1 for i in range(len(l2))]\n",
    "lst5"
   ]
  },
  {
   "cell_type": "code",
   "execution_count": 80,
   "id": "6b70ac18",
   "metadata": {},
   "outputs": [
    {
     "name": "stdout",
     "output_type": "stream",
     "text": [
      "Enter the string: abcde\n"
     ]
    },
    {
     "data": {
      "text/plain": [
       "{'a': 1, 'b': 2, 'c': 3, 'd': 4, 'e': 5}"
      ]
     },
     "execution_count": 80,
     "metadata": {},
     "output_type": "execute_result"
    }
   ],
   "source": [
    "# 6)\n",
    "s = input('Enter the string: ')\n",
    "dct6 = {k: v for (k, v) in zip(s, range(1,len(s)+1))}\n",
    "dct6"
   ]
  },
  {
   "cell_type": "code",
   "execution_count": 81,
   "id": "56ab8a04",
   "metadata": {},
   "outputs": [
    {
     "name": "stdout",
     "output_type": "stream",
     "text": [
      "[2, 4, -2, -3, 0, 11, 3, -1]\n",
      "{'a': 1, 'b': 2, 'c': 3, 'd': 4, 'e': 5}\n"
     ]
    },
    {
     "data": {
      "text/plain": [
       "3"
      ]
     },
     "execution_count": 81,
     "metadata": {},
     "output_type": "execute_result"
    }
   ],
   "source": [
    "# 7)\n",
    "print(l2)\n",
    "print(dct6)\n",
    "dct7 = {k: v for k,v in dct6.items() if v in l2}\n",
    "len(dct7)"
   ]
  },
  {
   "cell_type": "code",
   "execution_count": 53,
   "id": "2e2d9c6c",
   "metadata": {},
   "outputs": [
    {
     "data": {
      "text/plain": [
       "{'M': 1, 'o': 3, 'l': 1, 'k': 1}"
      ]
     },
     "execution_count": 53,
     "metadata": {},
     "output_type": "execute_result"
    }
   ],
   "source": [
    "# 8)\n",
    "s8 = 'Moloko'\n",
    "dct8 = {s8[i]: s8.count(s8[i]) for i in range(len(s8))}\n",
    "dct8"
   ]
  },
  {
   "cell_type": "code",
   "execution_count": 82,
   "id": "2b8e4e27",
   "metadata": {},
   "outputs": [
    {
     "name": "stdout",
     "output_type": "stream",
     "text": [
      "{'M': 1, 'o': 3, 'l': 1, 'k': 1}\n"
     ]
    },
    {
     "data": {
      "text/plain": [
       "3"
      ]
     },
     "execution_count": 82,
     "metadata": {},
     "output_type": "execute_result"
    }
   ],
   "source": [
    "# 9)\n",
    "print(dct8)\n",
    "dct9 = {k:v for k,v in dct8.items() if k.islower() == True}\n",
    "len(dct9)"
   ]
  },
  {
   "cell_type": "code",
   "execution_count": 57,
   "id": "58e1ca68",
   "metadata": {},
   "outputs": [
    {
     "data": {
      "text/plain": [
       "{1: 11, 2: 22, 3: 33, 4: 44, 5: 55, 6: 66}"
      ]
     },
     "execution_count": 57,
     "metadata": {},
     "output_type": "execute_result"
    }
   ],
   "source": [
    "# 10)\n",
    "dct10 = {k:k+v for k,v in d4.items()}\n",
    "dct10"
   ]
  },
  {
   "cell_type": "code",
   "execution_count": 64,
   "id": "0f6fb2e4",
   "metadata": {},
   "outputs": [
    {
     "name": "stdout",
     "output_type": "stream",
     "text": [
      "{'a': 3, 'b': 4, 'c': 5, 'd': 6, 'e': 7, 'f': 21, 'g': 9}\n",
      "{'e': 20, 'f': 21, 'g': 22, 'h': 23, 'i': 24, 'j': 25, 'k': 26, 'l': 27}\n"
     ]
    },
    {
     "data": {
      "text/plain": [
       "{'e': 20, 'g': 22, 'h': 23, 'i': 24, 'j': 25, 'k': 26, 'l': 27}"
      ]
     },
     "execution_count": 64,
     "metadata": {},
     "output_type": "execute_result"
    }
   ],
   "source": [
    "# 11)\n",
    "print(d5)\n",
    "print(d6)\n",
    "dct11 = {k:v for k,v in d6.items() if (k,v) not in d5.items()}\n",
    "dct11"
   ]
  },
  {
   "cell_type": "code",
   "execution_count": 79,
   "id": "951c9256",
   "metadata": {},
   "outputs": [
    {
     "name": "stdout",
     "output_type": "stream",
     "text": [
      "{'a': 3, 'b': 4, 'c': 5, 'd': 6, 'e': 7, 'f': 21, 'g': 9}\n",
      "{'e': 20, 'f': 21, 'g': 22, 'h': 23, 'i': 24, 'j': 25, 'k': 26, 'l': 27}\n"
     ]
    },
    {
     "data": {
      "text/plain": [
       "{'a': 3, 'b': 4, 'c': 5, 'd': 6, 'e': ('e', 7), 'f': ('f', 21), 'g': ('g', 9)}"
      ]
     },
     "execution_count": 79,
     "metadata": {},
     "output_type": "execute_result"
    }
   ],
   "source": [
    "# 12) ???\n",
    "print(d5)\n",
    "print(d6)\n",
    "dct14 = {k:v if k not in d6 and k in d5 else (k,v) for k,v in d5.items()}\n",
    "dct14"
   ]
  },
  {
   "cell_type": "code",
   "execution_count": null,
   "id": "2d9828b0",
   "metadata": {},
   "outputs": [],
   "source": [
    "# 13)\n"
   ]
  }
 ],
 "metadata": {
  "kernelspec": {
   "display_name": "Python 3 (ipykernel)",
   "language": "python",
   "name": "python3"
  },
  "language_info": {
   "codemirror_mode": {
    "name": "ipython",
    "version": 3
   },
   "file_extension": ".py",
   "mimetype": "text/x-python",
   "name": "python",
   "nbconvert_exporter": "python",
   "pygments_lexer": "ipython3",
   "version": "3.11.4"
  }
 },
 "nbformat": 4,
 "nbformat_minor": 5
}
