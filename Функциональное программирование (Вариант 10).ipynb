{
 "cells": [
  {
   "cell_type": "code",
   "execution_count": 4,
   "id": "ab47ae9a",
   "metadata": {},
   "outputs": [
    {
     "name": "stdout",
     "output_type": "stream",
     "text": [
      "Этот код выполняется перед вызовом display\n",
      "Выполняется display\n"
     ]
    }
   ],
   "source": [
    "# декодирование функции без декоратора\n",
    "def decor_func(orig_f):\n",
    "    def wrapper():\n",
    "        print(f'Этот код выполняется перед вызовом {orig_f.__name__}')\n",
    "        return orig_f()\n",
    "    return wrapper\n",
    "\n",
    "def display():\n",
    "    print('Выполняется display')\n",
    "    \n",
    "display = decor_func(display)\n",
    "display()"
   ]
  },
  {
   "cell_type": "code",
   "execution_count": 2,
   "id": "1a0f277b",
   "metadata": {},
   "outputs": [
    {
     "name": "stdout",
     "output_type": "stream",
     "text": [
      "Этот код выполняется перед вызовом display\n",
      "Выполняется display\n"
     ]
    }
   ],
   "source": [
    "# декодирование функции с декоратором\n",
    "def decor_func(orig_f):\n",
    "    def wrapper():\n",
    "        print(f'Этот код выполняется перед вызовом {orig_f.__name__}')\n",
    "        return orig_f()\n",
    "    return wrapper\n",
    "\n",
    "@decor_func\n",
    "def display():\n",
    "    print('Выполняется display')\n",
    "    \n",
    "display()"
   ]
  },
  {
   "cell_type": "code",
   "execution_count": 5,
   "id": "800f775a",
   "metadata": {
    "scrolled": false
   },
   "outputs": [
    {
     "ename": "TypeError",
     "evalue": "decor_func.<locals>.wrapper() takes 0 positional arguments but 2 were given",
     "output_type": "error",
     "traceback": [
      "\u001b[0;31m---------------------------------------------------------------------------\u001b[0m",
      "\u001b[0;31mTypeError\u001b[0m                                 Traceback (most recent call last)",
      "Cell \u001b[0;32mIn[5], line 4\u001b[0m\n\u001b[1;32m      1\u001b[0m \u001b[38;5;129m@decor_func\u001b[39m\n\u001b[1;32m      2\u001b[0m \u001b[38;5;28;01mdef\u001b[39;00m \u001b[38;5;21mdisplay_info\u001b[39m(name, age):\n\u001b[1;32m      3\u001b[0m     \u001b[38;5;28mprint\u001b[39m(\u001b[38;5;124mf\u001b[39m\u001b[38;5;124m'\u001b[39m\u001b[38;5;124mВыполняется display info с арументами \u001b[39m\u001b[38;5;132;01m{\u001b[39;00mname\u001b[38;5;132;01m}\u001b[39;00m\u001b[38;5;124m, \u001b[39m\u001b[38;5;132;01m{\u001b[39;00mage\u001b[38;5;132;01m}\u001b[39;00m\u001b[38;5;124m'\u001b[39m)\n\u001b[0;32m----> 4\u001b[0m display_info(\u001b[38;5;124m'\u001b[39m\u001b[38;5;124mIvan\u001b[39m\u001b[38;5;124m'\u001b[39m, \u001b[38;5;241m25\u001b[39m)\n",
      "\u001b[0;31mTypeError\u001b[0m: decor_func.<locals>.wrapper() takes 0 positional arguments but 2 were given"
     ]
    }
   ],
   "source": [
    "@decor_func\n",
    "def display_info(name, age):\n",
    "    print(f'Выполняется display info с арументами {name}, {age}')\n",
    "display_info('Ivan', 25)"
   ]
  },
  {
   "cell_type": "markdown",
   "id": "c5b156ad",
   "metadata": {},
   "source": [
    "### 10 вариант"
   ]
  },
  {
   "cell_type": "markdown",
   "id": "06605099",
   "metadata": {},
   "source": [
    "Задание 28\n",
    "\n",
    "<br>а) Вывести ряд Фибоначчи до n чисел, используя лямбда-функцию."
   ]
  },
  {
   "cell_type": "code",
   "execution_count": 48,
   "id": "52e87498",
   "metadata": {},
   "outputs": [
    {
     "name": "stdout",
     "output_type": "stream",
     "text": [
      "Введите n: 5\n",
      "[0, 1, 1, 2, 3]\n"
     ]
    }
   ],
   "source": [
    "# А)\n",
    "\n",
    "from functools import reduce\n",
    "\n",
    "n = int(input('Введите n: '))\n",
    "numbers = [0, 1]\n",
    "for _ in range(n-2):\n",
    "    numbers.append(reduce(lambda x, y: x + y, numbers[-2:]))\n",
    "print(numbers)"
   ]
  },
  {
   "cell_type": "code",
   "execution_count": 15,
   "id": "e715f3c4",
   "metadata": {},
   "outputs": [
    {
     "name": "stdout",
     "output_type": "stream",
     "text": [
      "Введите количество чисел в ряду Фибоначчи: 10\n",
      "Ряд Фибоначчи до 10 чисел: [0, 1, 1, 2, 3, 5, 8, 13, 21, 34]\n"
     ]
    }
   ],
   "source": [
    "# альтернативный вариант\n",
    "\n",
    "n = int(input(\"Введите количество чисел в ряду Фибоначчи: \"))\n",
    "fib = lambda x: x if x <= 1 else fib(x-1) + fib(x-2)\n",
    "fibonacciseries = [fib(i) for i in range(n)]\n",
    "print(f\"Ряд Фибоначчи до {n} чисел: {fibonacciseries}\")"
   ]
  },
  {
   "cell_type": "markdown",
   "id": "a6f0b067",
   "metadata": {},
   "source": [
    "<br>б) Найти следующее после заданного число, полученное перестановкой цифр заданного числа. _Примеры_: `12` → `21`, `10` → `False`, `201` → `210`, `102` → `120`, `445` → `454`."
   ]
  },
  {
   "cell_type": "code",
   "execution_count": 49,
   "id": "b9d8c4df",
   "metadata": {},
   "outputs": [
    {
     "name": "stdout",
     "output_type": "stream",
     "text": [
      "Введите число: 445\n",
      "Следующее число после 445, полученное перестановкой цифр, это: 454\n"
     ]
    }
   ],
   "source": [
    "# Б)\n",
    "\n",
    "import itertools\n",
    "number = int(input('Введите число: '))\n",
    "# Генерация всех перестановок цифр заданного числа\n",
    "permutations = list(itertools.permutations(str(number)))\n",
    "permutations = [''.join(p) for p in permutations]\n",
    "# Находим наименьшее число из перестановок, которое больше заданного числа\n",
    "next_number = min([int(p) for p in permutations if int(p) > number])\n",
    "print(f\"Следующее число после {number}, полученное перестановкой цифр, это: {next_number}\")"
   ]
  },
  {
   "cell_type": "markdown",
   "id": "a419398a",
   "metadata": {},
   "source": [
    "<br>в) Напишите программу для поиска элементов заданного списка строк, содержащих определённую подстроку, используя лямбда-функцию. _Пример_: `['red', 'black', 'white', 'green', 'orange']`; `ack` → `['black']`; `abc` → `[]`."
   ]
  },
  {
   "cell_type": "code",
   "execution_count": 50,
   "id": "a24c7151",
   "metadata": {},
   "outputs": [
    {
     "name": "stdout",
     "output_type": "stream",
     "text": [
      "Введите подстроку: ack\n",
      "['black']\n"
     ]
    }
   ],
   "source": [
    "# В)\n",
    "\n",
    "strings = ['red', 'black', 'white', 'green', 'orange']\n",
    "substring = input('Введите подстроку: ')\n",
    "res = list(filter(lambda x: substring in x, strings))\n",
    "print(res)"
   ]
  },
  {
   "cell_type": "markdown",
   "id": "827f0ef6",
   "metadata": {},
   "source": [
    "Задание 29\n",
    "\n",
    "<br>а) Преобразуйте заданный список кортежей в список строк с помощью функции `map()`. _Пример_: `[('red', 'pink'), ('white', 'black'), ('orange', 'green')]` → `['red pink', 'white black', 'orange green']`; `[('Sheridan', 'Gentry'); ('Laila', 'Mckee'), ('Ahsan', 'Rivas'), ('Conna', 'Gonzalez')]` → `['Sheridan Gentry', 'Laila Mckee', 'Ahsan Rivas', 'Conna Gonzalez']`."
   ]
  },
  {
   "cell_type": "code",
   "execution_count": 51,
   "id": "3076ba19",
   "metadata": {},
   "outputs": [
    {
     "name": "stdout",
     "output_type": "stream",
     "text": [
      "['red pink', 'white black', 'orange green']\n"
     ]
    }
   ],
   "source": [
    "# A) \n",
    "\n",
    "tuples_list = [('red', 'pink'), ('white', 'black'), ('orange', 'green')]\n",
    "strings_list = list(map(lambda x: ' '.join(x), tuples_list))\n",
    "\n",
    "print(strings_list) "
   ]
  },
  {
   "cell_type": "markdown",
   "id": "6e890f89",
   "metadata": {},
   "source": [
    "<br>б) Сгенерировать список целых чисел. С помощью функции `filter()` выбрать из списка все числа кратные 3 и упорядочить их по возрастанию. Используя функцию `reduce()`, найти их произведение."
   ]
  },
  {
   "cell_type": "code",
   "execution_count": 52,
   "id": "0c43eb6d",
   "metadata": {},
   "outputs": [
    {
     "name": "stdout",
     "output_type": "stream",
     "text": [
      "[17, 78, 17, 57, 5, -98, -34, -6, -76, -83] [-6, 57, 78] -26676\n"
     ]
    }
   ],
   "source": [
    "# Б)\n",
    "\n",
    "import random\n",
    "from functools import reduce\n",
    "\n",
    "lst_num = [random.randint(-100, 100) for _ in range(10)]\n",
    "filtered_numbers = list(filter(lambda x: x % 3 == 0, lst_num))\n",
    "filtered_numbers.sort()\n",
    "res = reduce(lambda x,y: x*y, filtered_numbers)\n",
    "print(lst_num, filtered_numbers, res)"
   ]
  },
  {
   "cell_type": "markdown",
   "id": "6062ab51",
   "metadata": {},
   "source": [
    "Задание 30\n",
    "\n",
    "<br>а) Создайте декоратор, который будет проверять возвращаемое значение функции на корректность и заменять его на предопределенное значение при обнаружении некорректных данных."
   ]
  },
  {
   "cell_type": "code",
   "execution_count": 46,
   "id": "e5e9956d",
   "metadata": {},
   "outputs": [
    {
     "name": "stdout",
     "output_type": "stream",
     "text": [
      "Некорректное значение abc, заменяем на 0\n",
      "0\n"
     ]
    }
   ],
   "source": [
    "# A)\n",
    "\n",
    "def check_and_replace(default_value):\n",
    "    def decorator(func):\n",
    "        def wrapper(*args, **kwargs):\n",
    "            result = func(*args, **kwargs)\n",
    "            if not isinstance(result, (int, float)):  # Проверка на корректность данных\n",
    "                print(f\"Некорректное значение {result}, заменяем на {default_value}\")\n",
    "                return default_value  # Замена на предопределенное значение\n",
    "            return result\n",
    "        return wrapper\n",
    "    return decorator\n",
    "\n",
    "@check_and_replace(default_value=0)  # Пример использования декоратора\n",
    "def some_function():\n",
    "    return \"abc\"  # Возвращаем некорректное значение\n",
    "\n",
    "result = some_function()\n",
    "print(result)"
   ]
  },
  {
   "cell_type": "markdown",
   "id": "881f0a3c",
   "metadata": {},
   "source": [
    "<br>б) Создайте декоратор, который будет заменять значение аргумента на заданное значение только если оно удовлетворяет определенному условию."
   ]
  },
  {
   "cell_type": "code",
   "execution_count": 47,
   "id": "18e43c97",
   "metadata": {},
   "outputs": [
    {
     "name": "stdout",
     "output_type": "stream",
     "text": [
      "2\n",
      "5\n"
     ]
    }
   ],
   "source": [
    "# B)\n",
    "\n",
    "def replace_if(condition, replacement):\n",
    "    def decorator(func):\n",
    "        def wrapper(*args, **kwargs):\n",
    "            modified_args = [arg if not condition(arg) else replacement for arg in args]\n",
    "            result = func(*modified_args, **kwargs)\n",
    "            return result\n",
    "        return wrapper\n",
    "    return decorator\n",
    "\n",
    "# Пример функции, к которой будем применять декоратор\n",
    "def calculate_sum(a, b):\n",
    "    return a + b\n",
    "\n",
    "# Условие для замены значения аргумента\n",
    "def condition(arg):\n",
    "    return arg < 0\n",
    "\n",
    "# Значение, на которое нужно заменить если условие выполнено\n",
    "replacement_value = 0\n",
    "\n",
    "@replace_if(condition=condition, replacement=replacement_value)\n",
    "def calculate_sum_modified(a, b):\n",
    "    return a + b\n",
    "\n",
    "# Проверка работы декоратора\n",
    "result1 = calculate_sum(5, -3)\n",
    "result2 = calculate_sum_modified(5, -3)\n",
    "\n",
    "print(result1)  # Оригинальная функция возвращает 2\n",
    "print(result2)  # Модифицированная функция с заменой второго аргумента на 0 возвращает 5"
   ]
  },
  {
   "cell_type": "code",
   "execution_count": null,
   "id": "32ed13c4",
   "metadata": {},
   "outputs": [],
   "source": []
  }
 ],
 "metadata": {
  "kernelspec": {
   "display_name": "Python 3 (ipykernel)",
   "language": "python",
   "name": "python3"
  },
  "language_info": {
   "codemirror_mode": {
    "name": "ipython",
    "version": 3
   },
   "file_extension": ".py",
   "mimetype": "text/x-python",
   "name": "python",
   "nbconvert_exporter": "python",
   "pygments_lexer": "ipython3",
   "version": "3.11.4"
  }
 },
 "nbformat": 4,
 "nbformat_minor": 5
}
