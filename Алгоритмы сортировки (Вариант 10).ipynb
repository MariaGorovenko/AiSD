{
 "cells": [
  {
   "cell_type": "markdown",
   "id": "e104e5b3",
   "metadata": {},
   "source": [
    "### 38"
   ]
  },
  {
   "cell_type": "markdown",
   "id": "13326592",
   "metadata": {},
   "source": [
    "Необходимо отсортировать массив дат и вывести результат на экран. В зависимости от переданного параметра отсортировать массив дат по возрастанию или по убыванию даты, используя алгоритмы сортировки: сортировку выбором, сортировку пузырьком и быструю сортировку. Сравнить время выполнения алгоритмов сортировки с помощью декоратора. Даты хранятся в файле."
   ]
  },
  {
   "cell_type": "code",
   "execution_count": 1,
   "id": "f16407ce",
   "metadata": {},
   "outputs": [],
   "source": [
    "# Функция для преобразования даты из формата строки в формат кортежа (для удобства сравнения)\n",
    "def convert_date(date_str):\n",
    "    day, month, year = map(int, date_str.split('.'))\n",
    "    return year, month, day"
   ]
  },
  {
   "cell_type": "markdown",
   "id": "373fdffb",
   "metadata": {},
   "source": [
    "СОРТИРОВКА ВЫБОРОМ"
   ]
  },
  {
   "cell_type": "code",
   "execution_count": 2,
   "id": "c790f2b3",
   "metadata": {},
   "outputs": [],
   "source": [
    "# Функция для сортировки массива дат по возрастанию с использованием алгоритма сортировки выбором\n",
    "def selection_sort_ascending(dates):\n",
    "    for i in range(len(dates)):\n",
    "        min_idx = i\n",
    "        for j in range(i+1, len(dates)):\n",
    "            if convert_date(dates[j]) < convert_date(dates[min_idx]):\n",
    "                min_idx = j\n",
    "        dates[i], dates[min_idx] = dates[min_idx], dates[i]\n",
    "\n",
    "# Функция для сортировки массива дат по убыванию с использованием алгоритма сортировки выбором\n",
    "def selection_sort_descending(dates):\n",
    "    for i in range(len(dates)):\n",
    "        max_idx = i\n",
    "        for j in range(i+1, len(dates)):\n",
    "            if convert_date(dates[j]) > convert_date(dates[max_idx]):\n",
    "                max_idx = j\n",
    "        dates[i], dates[max_idx] = dates[max_idx], dates[i]"
   ]
  },
  {
   "cell_type": "code",
   "execution_count": 3,
   "id": "1aa72b5e",
   "metadata": {},
   "outputs": [
    {
     "name": "stdout",
     "output_type": "stream",
     "text": [
      "Сортировка по возрастанию: ['07.05.2022', '03.10.2022', '09.12.2022', '17.03.2023', '10.04.2023', '12.06.2023', '15.09.2023', '05.01.2024', '20.08.2024', '28.11.2024']\n",
      "Сортировка по убыванию: ['28.11.2024', '20.08.2024', '05.01.2024', '15.09.2023', '12.06.2023', '10.04.2023', '17.03.2023', '09.12.2022', '03.10.2022', '07.05.2022']\n"
     ]
    }
   ],
   "source": [
    "dates_list = ['15.09.2023', '07.05.2022', '28.11.2024', '10.04.2023', '03.10.2022', '20.08.2024', '12.06.2023',\n",
    "             '09.12.2022', '05.01.2024', '17.03.2023']\n",
    "\n",
    "# Сортировка по возрастанию\n",
    "ascending_dates1 = dates_list.copy()\n",
    "selection_sort_ascending(ascending_dates1)\n",
    "print(\"Сортировка по возрастанию:\", ascending_dates1)\n",
    "\n",
    "# Сортировка по убыванию\n",
    "descending_dates1 = dates_list.copy()\n",
    "selection_sort_descending(descending_dates1)\n",
    "print(\"Сортировка по убыванию:\", descending_dates1)"
   ]
  },
  {
   "cell_type": "markdown",
   "id": "bab8c07f",
   "metadata": {},
   "source": [
    "ПУЗЫРЬКОВАЯ СОРТИРОВКА"
   ]
  },
  {
   "cell_type": "code",
   "execution_count": 4,
   "id": "6ca39f49",
   "metadata": {},
   "outputs": [],
   "source": [
    "# Функция для сортировки массива дат по возрастанию с использованием алгоритма сортировки пузырьком\n",
    "def bubble_sort_ascending(dates):\n",
    "    for i in range(len(dates)):\n",
    "        for j in range(0, len(dates)-i-1):\n",
    "            if convert_date(dates[j]) > convert_date(dates[j+1]):\n",
    "                dates[j], dates[j+1] = dates[j+1], dates[j]\n",
    "\n",
    "# Функция для сортировки массива дат по убыванию с использованием алгоритма сортировки пузырьком\n",
    "def bubble_sort_descending(dates):\n",
    "    for i in range(len(dates)):\n",
    "        for j in range(0, len(dates)-i-1):\n",
    "            if convert_date(dates[j]) < convert_date(dates[j+1]):\n",
    "                dates[j], dates[j+1] = dates[j+1], dates[j]"
   ]
  },
  {
   "cell_type": "code",
   "execution_count": 5,
   "id": "fdb80ed9",
   "metadata": {},
   "outputs": [
    {
     "name": "stdout",
     "output_type": "stream",
     "text": [
      "Сортировка по возрастанию: ['07.05.2022', '03.10.2022', '09.12.2022', '17.03.2023', '10.04.2023', '12.06.2023', '15.09.2023', '05.01.2024', '20.08.2024', '28.11.2024']\n",
      "Сортировка по убыванию: ['28.11.2024', '20.08.2024', '05.01.2024', '15.09.2023', '12.06.2023', '10.04.2023', '17.03.2023', '09.12.2022', '03.10.2022', '07.05.2022']\n"
     ]
    }
   ],
   "source": [
    "# Сортировка по возрастанию\n",
    "ascending_dates2 = dates_list.copy()\n",
    "bubble_sort_ascending(ascending_dates2)\n",
    "print(\"Сортировка по возрастанию:\", ascending_dates2)\n",
    "\n",
    "# Сортировка по убыванию\n",
    "descending_dates2 = dates_list.copy()\n",
    "bubble_sort_descending(descending_dates2)\n",
    "print(\"Сортировка по убыванию:\", descending_dates2)"
   ]
  },
  {
   "cell_type": "markdown",
   "id": "d31a70b6",
   "metadata": {},
   "source": [
    "БЫСТРАЯ СОРТИРОВКА"
   ]
  },
  {
   "cell_type": "code",
   "execution_count": 7,
   "id": "a15ab1c8",
   "metadata": {},
   "outputs": [],
   "source": [
    "def partition(dates, low, high):\n",
    "    i = (low - 1)\n",
    "    pivot = convert_date(dates[high])  # Вызываем функцию convert_date для опорного элемента\n",
    "    for j in range(low, high):\n",
    "        if convert_date(dates[j]) <= pivot:  # Вызываем функцию convert_date для каждого элемента перед сравнением\n",
    "            i = i + 1\n",
    "            dates[i], dates[j] = dates[j], dates[i]\n",
    "    dates[i + 1], dates[high] = dates[high], dates[i + 1]\n",
    "    return (i + 1)\n",
    "\n",
    "def quickSort_ascending(dates, low, high):\n",
    "    if len(dates) == 1:\n",
    "        return dates\n",
    "    if low < high:\n",
    "        pi = partition(dates, low, high)\n",
    "        quickSort_ascending(dates, low, pi - 1)  \n",
    "        quickSort_ascending(dates, pi + 1, high)  \n",
    "    return dates\n",
    "\n",
    "def quickSort_descending(dates, low, high):\n",
    "    if len(dates) == 1:\n",
    "        return dates\n",
    "    if low > high:\n",
    "        pi = partition(dates, low, high)\n",
    "        quickSort_descending(dates, low, pi - 1)  \n",
    "        quickSort_descending(dates, pi + 1, high)  \n",
    "    return dates"
   ]
  },
  {
   "cell_type": "code",
   "execution_count": 8,
   "id": "1bb590e6",
   "metadata": {},
   "outputs": [
    {
     "name": "stdout",
     "output_type": "stream",
     "text": [
      "Сортировка по возрастанию: ['07.05.2022', '03.10.2022', '09.12.2022', '17.03.2023', '10.04.2023', '12.06.2023', '15.09.2023', '05.01.2024', '20.08.2024', '28.11.2024']\n",
      "Сортировка по убыванию: ['15.09.2023', '07.05.2022', '28.11.2024', '10.04.2023', '03.10.2022', '20.08.2024', '12.06.2023', '09.12.2022', '05.01.2024', '17.03.2023']\n"
     ]
    }
   ],
   "source": [
    "n = len(dates_list)\n",
    "\n",
    "# Сортировка по возрастанию\n",
    "ascending_dates3 = dates_list.copy()\n",
    "quickSort_ascending(ascending_dates3, 0, n-1)\n",
    "print(\"Сортировка по возрастанию:\", ascending_dates3)\n",
    "\n",
    "# Сортировка по убыванию\n",
    "descending_dates3 = dates_list.copy()\n",
    "quickSort_descending(descending_dates3, 0, n-1)\n",
    "print(\"Сортировка по убыванию:\", descending_dates3)"
   ]
  },
  {
   "cell_type": "markdown",
   "id": "cfdbdea2",
   "metadata": {},
   "source": [
    "СОРТИРОВКА СЛИЯНИЕМ"
   ]
  },
  {
   "cell_type": "code",
   "execution_count": 9,
   "id": "af703a20",
   "metadata": {},
   "outputs": [],
   "source": [
    "from datetime import datetime\n",
    "\n",
    "def merge_sort_ascending(dates_list):\n",
    "    if len(dates_list) <= 1:\n",
    "        return dates_list\n",
    "    \n",
    "    mid = len(dates_list) // 2\n",
    "    left_half = dates_list[:mid]\n",
    "    right_half = dates_list[mid:]\n",
    "    \n",
    "    left_half = merge_sort_ascending(left_half)\n",
    "    right_half = merge_sort_ascending(right_half)\n",
    "    \n",
    "    return merge_ascending(left_half, right_half)\n",
    "\n",
    "def merge_ascending(left, right):\n",
    "    result = []\n",
    "    left_index = right_index = 0\n",
    "    \n",
    "    while left_index < len(left) and right_index < len(right):\n",
    "        if datetime.strptime(left[left_index], '%d.%m.%Y') < datetime.strptime(right[right_index], '%d.%m.%Y'):\n",
    "            result.append(left[left_index])\n",
    "            left_index += 1\n",
    "        else:\n",
    "            result.append(right[right_index])\n",
    "            right_index += 1\n",
    "    \n",
    "    result.extend(left[left_index:])\n",
    "    result.extend(right[right_index:])\n",
    "    \n",
    "    return result"
   ]
  },
  {
   "cell_type": "code",
   "execution_count": 10,
   "id": "bf09ddda",
   "metadata": {},
   "outputs": [],
   "source": [
    "def merge_sort_descending(dates_list):\n",
    "    if len(dates_list) <= 1:\n",
    "        return dates_list\n",
    "    \n",
    "    mid = len(dates_list) // 2\n",
    "    left_half = dates_list[:mid]\n",
    "    right_half = dates_list[mid:]\n",
    "    \n",
    "    left_half = merge_sort_descending(left_half)\n",
    "    right_half = merge_sort_descending(right_half)\n",
    "    \n",
    "    return merge_descending(left_half, right_half)\n",
    "\n",
    "def merge_descending(left, right):\n",
    "    result = []\n",
    "    left_index = right_index = 0\n",
    "    \n",
    "    while left_index < len(left) and right_index < len(right):\n",
    "        if datetime.strptime(left[left_index], '%d.%m.%Y') > datetime.strptime(right[right_index], '%d.%m.%Y'):\n",
    "            result.append(left[left_index])\n",
    "            left_index += 1\n",
    "        else:\n",
    "            result.append(right[right_index])\n",
    "            right_index += 1\n",
    "    \n",
    "    result.extend(left[left_index:])\n",
    "    result.extend(right[right_index:])\n",
    "    \n",
    "    return result"
   ]
  },
  {
   "cell_type": "code",
   "execution_count": 11,
   "id": "a10e1582",
   "metadata": {},
   "outputs": [
    {
     "name": "stdout",
     "output_type": "stream",
     "text": [
      "Сортировка по возрастанию: ['07.05.2022', '03.10.2022', '09.12.2022', '17.03.2023', '10.04.2023', '12.06.2023', '15.09.2023', '05.01.2024', '20.08.2024', '28.11.2024']\n",
      "Сортировка по убыванию: ['28.11.2024', '20.08.2024', '05.01.2024', '15.09.2023', '12.06.2023', '10.04.2023', '17.03.2023', '09.12.2022', '03.10.2022', '07.05.2022']\n"
     ]
    }
   ],
   "source": [
    "# Сортировка по возрастанию\n",
    "ascending_dates4 = merge_sort_ascending(dates_list)\n",
    "print(\"Сортировка по возрастанию:\", ascending_dates4)\n",
    "# Сортировка по убыванию\n",
    "descending_dates4 = merge_sort_descending(dates_list)\n",
    "print(\"Сортировка по убыванию:\", descending_dates4)"
   ]
  },
  {
   "cell_type": "markdown",
   "id": "de170025",
   "metadata": {},
   "source": [
    "### 39"
   ]
  },
  {
   "cell_type": "markdown",
   "id": "e344f577",
   "metadata": {},
   "source": [
    "Реализовать класс бинарного дерева. Написать функцию для нахождения всех узлов, которые имеют двух потомков в бинарном дереве."
   ]
  },
  {
   "cell_type": "code",
   "execution_count": 12,
   "id": "b1bb2c32",
   "metadata": {},
   "outputs": [
    {
     "name": "stdout",
     "output_type": "stream",
     "text": [
      "Обход дерева:\n",
      "2\n",
      "3\n",
      "4\n",
      "5\n",
      "6\n",
      "7\n",
      "8\n",
      "Узлы с двумя потомками: [5, 3, 7]\n"
     ]
    }
   ],
   "source": [
    "class Node:\n",
    "    def __init__(self, value):\n",
    "        self.value = value\n",
    "        self.left = None\n",
    "        self.right = None\n",
    "\n",
    "class BinaryTree:\n",
    "    def __init__(self, root_value):\n",
    "        self.root = Node(root_value)\n",
    "\n",
    "    def find_nodes_with_two_children(self, node, result):\n",
    "        if node is None:\n",
    "            return\n",
    "        \n",
    "        if node.left and node.right:\n",
    "            result.append(node.value)\n",
    "        \n",
    "        self.find_nodes_with_two_children(node.left, result)\n",
    "        self.find_nodes_with_two_children(node.right, result)\n",
    "\n",
    "def inorder_traversal(node): # \"обход в обратном порядке\": левое поддерево, корень, правое поддерево\n",
    "    if node:\n",
    "        inorder_traversal(node.left)\n",
    "        print(node.value)\n",
    "        inorder_traversal(node.right)\n",
    "\n",
    "tree = BinaryTree(5)\n",
    "tree.root.left = Node(3)\n",
    "tree.root.right = Node(7)\n",
    "tree.root.left.left = Node(2)\n",
    "tree.root.left.right = Node(4)\n",
    "tree.root.right.left = Node(6)\n",
    "tree.root.right.right = Node(8)\n",
    "\n",
    "# Вид двоичного дерева:\n",
    "#      5\n",
    "#   3     7\n",
    "# 2   4 6   8\n",
    "\n",
    "print(\"Обход дерева:\") \n",
    "inorder_traversal(tree.root)\n",
    "\n",
    "result = []\n",
    "tree.find_nodes_with_two_children(tree.root, result)\n",
    "print(\"Узлы с двумя потомками:\", result)"
   ]
  },
  {
   "cell_type": "markdown",
   "id": "3e666d45",
   "metadata": {},
   "source": [
    "### 40"
   ]
  },
  {
   "cell_type": "markdown",
   "id": "5fe56cf9",
   "metadata": {},
   "source": [
    "Имеется система управления задачами. Каждая задача имеет приоритет и дедлайн. Реализовать структуру данных на основе двоичной кучи, которая будет поддерживать операции добавления задачи и извлечения задачи с наивысшим приоритетом и дедлайном до определенного времени."
   ]
  },
  {
   "cell_type": "code",
   "execution_count": 13,
   "id": "3915a79d",
   "metadata": {},
   "outputs": [],
   "source": [
    "import heapq\n",
    "\n",
    "class Task:\n",
    "    def __init__(self, priority, deadline):\n",
    "        self.priority = priority\n",
    "        self.deadline = deadline\n",
    "        \n",
    "class TaskHeap:\n",
    "    def __init__(self):\n",
    "        self.tasks = []\n",
    "        \n",
    "    def add_task(self, task): # добавляет элемент в кучу\n",
    "        heapq.heappush(self.tasks, (-task.priority, task.deadline, task))\n",
    "        # -task.priority передается с минусом, так как модуль heapq реализует мин-кучу, \n",
    "        # где наивысший приоритет имеет наименьшее значение\n",
    "        \n",
    "    def extract_task(self, current_time): # извлекает и возвращает элемент с наивысшим приоритетом\n",
    "        while self.tasks:\n",
    "            priority, deadline, task = heapq.heappop(self.tasks)\n",
    "            if deadline >= current_time:\n",
    "                return task\n",
    "        return None"
   ]
  },
  {
   "cell_type": "code",
   "execution_count": 14,
   "id": "dd96801d",
   "metadata": {},
   "outputs": [
    {
     "name": "stdout",
     "output_type": "stream",
     "text": [
      "Следующая задача с наивысшим приоритетом и дедлайном до 7: Приоритет - 3, Дедлайн - 10\n"
     ]
    }
   ],
   "source": [
    "task_heap = TaskHeap()\n",
    "\n",
    "task1 = Task(3, 10)\n",
    "task2 = Task(5, 5)\n",
    "task3 = Task(1, 8)\n",
    "\n",
    "task_heap.add_task(task1)\n",
    "task_heap.add_task(task2)\n",
    "task_heap.add_task(task3)\n",
    "\n",
    "current_time = 7\n",
    "next_task = task_heap.extract_task(current_time)\n",
    "\n",
    "if next_task:\n",
    "    print(f\"Следующая задача с наивысшим приоритетом и дедлайном до {current_time}: Приоритет - {next_task.priority}, Дедлайн - {next_task.deadline}\")\n",
    "else:\n",
    "    print(\"Нет задач с дедлайном до указанного времени.\")\n"
   ]
  },
  {
   "cell_type": "code",
   "execution_count": null,
   "id": "075860a2",
   "metadata": {},
   "outputs": [],
   "source": []
  }
 ],
 "metadata": {
  "kernelspec": {
   "display_name": "Python 3 (ipykernel)",
   "language": "python",
   "name": "python3"
  },
  "language_info": {
   "codemirror_mode": {
    "name": "ipython",
    "version": 3
   },
   "file_extension": ".py",
   "mimetype": "text/x-python",
   "name": "python",
   "nbconvert_exporter": "python",
   "pygments_lexer": "ipython3",
   "version": "3.11.4"
  }
 },
 "nbformat": 4,
 "nbformat_minor": 5
}
