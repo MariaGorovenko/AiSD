{
 "cells": [
  {
   "cell_type": "markdown",
   "id": "6f2a70db",
   "metadata": {},
   "source": [
    "Задача 1. \n",
    "Создать класс «Студент» и реализовать методы для установки и получения имени студента."
   ]
  },
  {
   "cell_type": "code",
   "execution_count": 18,
   "id": "7f3830cc",
   "metadata": {},
   "outputs": [],
   "source": [
    "class Student:\n",
    "    def __init__(self, name):\n",
    "        self.name = name\n",
    "\n",
    "    def set_name(self, name):\n",
    "        self.name = name\n",
    "\n",
    "    def get_name(self):\n",
    "        return self.name"
   ]
  },
  {
   "cell_type": "code",
   "execution_count": 19,
   "id": "73519ecc",
   "metadata": {},
   "outputs": [],
   "source": [
    "student = Student('Иванов Иван')"
   ]
  },
  {
   "cell_type": "code",
   "execution_count": 20,
   "id": "864d87c5",
   "metadata": {},
   "outputs": [
    {
     "data": {
      "text/plain": [
       "'Иванов Иван'"
      ]
     },
     "execution_count": 20,
     "metadata": {},
     "output_type": "execute_result"
    }
   ],
   "source": [
    "student.get_name()"
   ]
  },
  {
   "cell_type": "code",
   "execution_count": 21,
   "id": "7bf2a254",
   "metadata": {},
   "outputs": [
    {
     "data": {
      "text/plain": [
       "'Петров Петр'"
      ]
     },
     "execution_count": 21,
     "metadata": {},
     "output_type": "execute_result"
    }
   ],
   "source": [
    "student.set_name('Петров Петр')\n",
    "student.get_name()"
   ]
  },
  {
   "cell_type": "markdown",
   "id": "6f0dce60",
   "metadata": {},
   "source": [
    "Задача 2. \n",
    "Создать класс «Товар» с методами для установки и получения цены товара."
   ]
  },
  {
   "cell_type": "code",
   "execution_count": 27,
   "id": "be5b415e",
   "metadata": {},
   "outputs": [],
   "source": [
    "class Goods(object):\n",
    "    def __init__(self, value):\n",
    "        self.value = value\n",
    "        \n",
    "    def set_value(self, value):\n",
    "        self.value = value\n",
    "        \n",
    "    def get_value(self):\n",
    "        return self.value"
   ]
  },
  {
   "cell_type": "code",
   "execution_count": 28,
   "id": "2d871cc7",
   "metadata": {},
   "outputs": [],
   "source": [
    "goods = Goods(1000)"
   ]
  },
  {
   "cell_type": "code",
   "execution_count": 29,
   "id": "b3a38447",
   "metadata": {},
   "outputs": [
    {
     "data": {
      "text/plain": [
       "1000"
      ]
     },
     "execution_count": 29,
     "metadata": {},
     "output_type": "execute_result"
    }
   ],
   "source": [
    "goods.get_value()"
   ]
  },
  {
   "cell_type": "code",
   "execution_count": 30,
   "id": "f7f93497",
   "metadata": {},
   "outputs": [
    {
     "data": {
      "text/plain": [
       "500"
      ]
     },
     "execution_count": 30,
     "metadata": {},
     "output_type": "execute_result"
    }
   ],
   "source": [
    "goods.set_value(500)\n",
    "goods.get_value()"
   ]
  },
  {
   "cell_type": "markdown",
   "id": "8d46bb61",
   "metadata": {},
   "source": [
    "Задача 3. \n",
    "Создать класс «Калькулятор» с методами для выполнения простых математических операций: сложение, вычитание, умножение и деление."
   ]
  },
  {
   "cell_type": "code",
   "execution_count": 31,
   "id": "5ad38029",
   "metadata": {},
   "outputs": [],
   "source": [
    "class Calculator(object):\n",
    "    def __init__(self, op1, op2):\n",
    "        self.op1 = op1\n",
    "        self.op2 = op2\n",
    "        \n",
    "    def addition(self):\n",
    "        return self.op1 + self.op2\n",
    "    \n",
    "    def subtraction(self):\n",
    "        return self.op1 - self.op2\n",
    "    \n",
    "    def multiplication(self):\n",
    "        return self.op1 * self.op2\n",
    "    \n",
    "    def division(self):\n",
    "        return self.op1 / self.op2"
   ]
  },
  {
   "cell_type": "code",
   "execution_count": 32,
   "id": "91c1cd17",
   "metadata": {},
   "outputs": [],
   "source": [
    "example = Calculator(6, 3)"
   ]
  },
  {
   "cell_type": "code",
   "execution_count": 33,
   "id": "09a6afa0",
   "metadata": {},
   "outputs": [
    {
     "data": {
      "text/plain": [
       "9"
      ]
     },
     "execution_count": 33,
     "metadata": {},
     "output_type": "execute_result"
    }
   ],
   "source": [
    "example.addition()"
   ]
  },
  {
   "cell_type": "code",
   "execution_count": 34,
   "id": "bd0bf051",
   "metadata": {},
   "outputs": [
    {
     "data": {
      "text/plain": [
       "3"
      ]
     },
     "execution_count": 34,
     "metadata": {},
     "output_type": "execute_result"
    }
   ],
   "source": [
    "example.subtraction()"
   ]
  },
  {
   "cell_type": "code",
   "execution_count": 35,
   "id": "ee6eee54",
   "metadata": {},
   "outputs": [
    {
     "data": {
      "text/plain": [
       "18"
      ]
     },
     "execution_count": 35,
     "metadata": {},
     "output_type": "execute_result"
    }
   ],
   "source": [
    "example.multiplication()"
   ]
  },
  {
   "cell_type": "code",
   "execution_count": 36,
   "id": "7f202455",
   "metadata": {},
   "outputs": [
    {
     "data": {
      "text/plain": [
       "2.0"
      ]
     },
     "execution_count": 36,
     "metadata": {},
     "output_type": "execute_result"
    }
   ],
   "source": [
    "example.division()"
   ]
  },
  {
   "cell_type": "markdown",
   "id": "01c97d23",
   "metadata": {},
   "source": [
    "Задача 4.\n",
    "Создайте класс Soda (для определения типа газированной воды), принимающий 1 аргумент при инициализации (отвечающий за добавку к выбираемому лимонаду). В этом классе реализуйте метод show_my_drink(), выводящий на печать Газировка и {ДОБАВКА} в случае наличия добавки, а иначе отобразится следующая фраза: Обычная газировка."
   ]
  },
  {
   "cell_type": "code",
   "execution_count": 48,
   "id": "2869ffb8",
   "metadata": {},
   "outputs": [],
   "source": [
    "class Soda(object):\n",
    "    def __init__(self, add=None):\n",
    "        self.add = add\n",
    "        \n",
    "    def show_my_drink(self):\n",
    "        if self.add:\n",
    "            return f'Газировка и {self.add}'\n",
    "        return 'Обычная газировка'"
   ]
  },
  {
   "cell_type": "code",
   "execution_count": 49,
   "id": "7472ce39",
   "metadata": {},
   "outputs": [],
   "source": [
    "drink = Soda()"
   ]
  },
  {
   "cell_type": "code",
   "execution_count": 50,
   "id": "5b84eab9",
   "metadata": {},
   "outputs": [
    {
     "data": {
      "text/plain": [
       "'Обычная газировка'"
      ]
     },
     "execution_count": 50,
     "metadata": {},
     "output_type": "execute_result"
    }
   ],
   "source": [
    "drink.show_my_drink()"
   ]
  },
  {
   "cell_type": "code",
   "execution_count": 51,
   "id": "c02f40a0",
   "metadata": {},
   "outputs": [
    {
     "data": {
      "text/plain": [
       "'Газировка и сироп'"
      ]
     },
     "execution_count": 51,
     "metadata": {},
     "output_type": "execute_result"
    }
   ],
   "source": [
    "drink.add = 'сироп'\n",
    "drink.show_my_drink()"
   ]
  },
  {
   "cell_type": "markdown",
   "id": "bbd711f3",
   "metadata": {},
   "source": [
    "Задача 5.\n",
    "Николаю требуется проверить, возможно ли из представленных отрезков условной длины сформировать треугольник. Для этого он решил создать класс TriangleChecker, принимающий только положительные числа. С помощью метода is_triangle() возвращаются следующие значения (в зависимости от ситуации):\n",
    "- Ура, можно построить треугольник!;\n",
    "- С отрицательными числами ничего не выйдет!;\n",
    "- Нужно вводить только числа!;\n",
    "- Жаль, но из этого треугольник не сделать."
   ]
  },
  {
   "cell_type": "code",
   "execution_count": 74,
   "id": "03c5a1a2",
   "metadata": {},
   "outputs": [],
   "source": [
    "class TriangleChecker(object):\n",
    "    def __init__(self, a, b, c):\n",
    "        self.a = a\n",
    "        self.b = b\n",
    "        self.c = c\n",
    "        \n",
    "    def is_triangle(self):\n",
    "        if not all(isinstance(x, int) for x in [self.a, self.b, self.c]):\n",
    "            return 'Нужно вводить только числа!'\n",
    "        elif any(x <= 0 for x in [self.a, self.b, self.c]):\n",
    "            return 'С отрицательными числами ничего не выйдет!'\n",
    "        elif self.a + self.b > self.c or self.a + self.c > self.b or self.b + self.c > self.a:\n",
    "            return 'Ура, можно построить треугольник!'\n",
    "        else:\n",
    "            return 'Жаль, но из этого треугольник не сделать.'"
   ]
  },
  {
   "cell_type": "code",
   "execution_count": 77,
   "id": "d92b6985",
   "metadata": {},
   "outputs": [
    {
     "data": {
      "text/plain": [
       "'Ура, можно построить треугольник!'"
      ]
     },
     "execution_count": 77,
     "metadata": {},
     "output_type": "execute_result"
    }
   ],
   "source": [
    "triagele1 = TriangleChecker(3, 2, 5)\n",
    "triagele1.is_triangle()"
   ]
  },
  {
   "cell_type": "code",
   "execution_count": 80,
   "id": "cc541738",
   "metadata": {},
   "outputs": [
    {
     "data": {
      "text/plain": [
       "'С отрицательными числами ничего не выйдет!'"
      ]
     },
     "execution_count": 80,
     "metadata": {},
     "output_type": "execute_result"
    }
   ],
   "source": [
    "triagele2 = TriangleChecker(-3, 2, 2)\n",
    "triagele2.is_triangle()"
   ]
  },
  {
   "cell_type": "code",
   "execution_count": 81,
   "id": "0b4e39cb",
   "metadata": {},
   "outputs": [
    {
     "data": {
      "text/plain": [
       "'Нужно вводить только числа!'"
      ]
     },
     "execution_count": 81,
     "metadata": {},
     "output_type": "execute_result"
    }
   ],
   "source": [
    "triagele3 = TriangleChecker('a', 2, 2)\n",
    "triagele3.is_triangle()"
   ]
  },
  {
   "cell_type": "code",
   "execution_count": 82,
   "id": "aca4709d",
   "metadata": {},
   "outputs": [
    {
     "data": {
      "text/plain": [
       "'Ура, можно построить треугольник!'"
      ]
     },
     "execution_count": 82,
     "metadata": {},
     "output_type": "execute_result"
    }
   ],
   "source": [
    "triagele3.a = 2\n",
    "triagele3.is_triangle()"
   ]
  },
  {
   "cell_type": "markdown",
   "id": "10fa196e",
   "metadata": {},
   "source": [
    "Задача 6.\n",
    "Евгения создала класс KgToPounds с параметром kg, куда передается определенное количество килограмм, а с помощью метода to_pounds() они переводятся в фунты. Чтобы закрыть доступ к переменной kg она реализовала методы set_kg() - для задания нового значения килограммов, get_kg() - для вывода текущего значения кг. Из-за этого возникло неудобство: нам нужно теперь использовать эти 2 метода для задания и вывода значений. Помогите ей переделать класс с использованием функции property() и свойств-декораторов. Код приведен ниже."
   ]
  },
  {
   "cell_type": "code",
   "execution_count": 144,
   "id": "00f6cd95",
   "metadata": {},
   "outputs": [],
   "source": [
    "class KgToPounds(object):\n",
    "    def __init__(self, kg):\n",
    "        self.__kg = kg\n",
    "\n",
    "    @property\n",
    "    def get_kg(self):\n",
    "        return self.__kg\n",
    "\n",
    "    @get_kg.setter\n",
    "    def set_kg(self, value):\n",
    "        self.__kg = value\n",
    "\n",
    "    @property\n",
    "    def to_pounds(self):\n",
    "        return self.__kg * 2.20462"
   ]
  },
  {
   "cell_type": "code",
   "execution_count": 145,
   "id": "57e7229e",
   "metadata": {},
   "outputs": [],
   "source": [
    "val = KgToPounds(1)"
   ]
  },
  {
   "cell_type": "code",
   "execution_count": 146,
   "id": "e7bddd02",
   "metadata": {},
   "outputs": [
    {
     "data": {
      "text/plain": [
       "1"
      ]
     },
     "execution_count": 146,
     "metadata": {},
     "output_type": "execute_result"
    }
   ],
   "source": [
    "val.get_kg"
   ]
  },
  {
   "cell_type": "code",
   "execution_count": 147,
   "id": "b7ad889c",
   "metadata": {},
   "outputs": [
    {
     "data": {
      "text/plain": [
       "2.20462"
      ]
     },
     "execution_count": 147,
     "metadata": {},
     "output_type": "execute_result"
    }
   ],
   "source": [
    "val.to_pounds"
   ]
  },
  {
   "cell_type": "code",
   "execution_count": 148,
   "id": "cf97998a",
   "metadata": {},
   "outputs": [
    {
     "data": {
      "text/plain": [
       "4.40924"
      ]
     },
     "execution_count": 148,
     "metadata": {},
     "output_type": "execute_result"
    }
   ],
   "source": [
    "val.set_kg = 2\n",
    "val.to_pounds"
   ]
  },
  {
   "cell_type": "code",
   "execution_count": 149,
   "id": "6fe9927b",
   "metadata": {},
   "outputs": [
    {
     "ename": "AttributeError",
     "evalue": "'KgToPounds' object has no attribute 'kg'",
     "output_type": "error",
     "traceback": [
      "\u001b[0;31m---------------------------------------------------------------------------\u001b[0m",
      "\u001b[0;31mAttributeError\u001b[0m                            Traceback (most recent call last)",
      "Cell \u001b[0;32mIn[149], line 1\u001b[0m\n\u001b[0;32m----> 1\u001b[0m val\u001b[38;5;241m.\u001b[39mkg\n",
      "\u001b[0;31mAttributeError\u001b[0m: 'KgToPounds' object has no attribute 'kg'"
     ]
    }
   ],
   "source": [
    "val.kg"
   ]
  },
  {
   "cell_type": "markdown",
   "id": "5c367e5f",
   "metadata": {},
   "source": [
    "Задача 7.\n",
    "Николай – оригинальный человек. Он решил создать класс Nikola, принимающий при инициализации 2 параметра: имя и возраст. Но на этом он не успокоился. Не важно, какое имя передаст пользователь при создании экземпляра, оно всегда будет содержать Николая. В частности - если пользователя на самом деле зовут Николаем, то с именем ничего не произойдет, а если его зовут, например, Максим, то оно преобразуется в Я не Максим, а Николай.\n",
    "\n",
    "Более того, никаких других атрибутов и методов у экземпляра не может быть добавлено, даже если кто-то и вздумает так поступить (т.е. если некий пользователь решит прибавить к экземпляру свойство отчество или метод приветствие, то ничего у такого хитреца не получится)."
   ]
  },
  {
   "cell_type": "code",
   "execution_count": null,
   "id": "f34068d9",
   "metadata": {},
   "outputs": [],
   "source": []
  },
  {
   "cell_type": "markdown",
   "id": "6b2d5c5f",
   "metadata": {},
   "source": [
    "Задача 8*.\n",
    "Строки в Питоне сравниваются на основании значений символов. Т.е. если мы захотим выяснить, что больше: Apple или Яблоко, – то Яблоко окажется бОльшим. А все потому, что английская буква A имеет значение 65 (берется из таблицы кодировки), а русская буква Я – 1071 (с помощью функции ord() это можно выяснить). Такое положение дел не устроило Анну. Она считает, что строки нужно сравнивать по количеству входящих в них символов.\n",
    "\n",
    "Для этого девушка создала класс RealString и реализовала озвученный инструментарий. Сравнивать между собой можно как объекты класса, так и обычные строки с экземплярами класса RealString. К слову, Анне понадобилось только 3 метода внутри класса (включая __init__()) для воплощения задуманного."
   ]
  },
  {
   "cell_type": "code",
   "execution_count": null,
   "id": "48b4ef25",
   "metadata": {},
   "outputs": [],
   "source": []
  }
 ],
 "metadata": {
  "kernelspec": {
   "display_name": "Python 3 (ipykernel)",
   "language": "python",
   "name": "python3"
  },
  "language_info": {
   "codemirror_mode": {
    "name": "ipython",
    "version": 3
   },
   "file_extension": ".py",
   "mimetype": "text/x-python",
   "name": "python",
   "nbconvert_exporter": "python",
   "pygments_lexer": "ipython3",
   "version": "3.11.4"
  }
 },
 "nbformat": 4,
 "nbformat_minor": 5
}
