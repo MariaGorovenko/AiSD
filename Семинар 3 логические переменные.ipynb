{
 "cells": [
  {
   "cell_type": "markdown",
   "id": "4a23c046",
   "metadata": {},
   "source": [
    "1)\n",
    "a = True, b = True, res1 = True, res2 = True\n",
    "a = True, b = False, res1 = True, res2 = True\n",
    "a = False, b = True, res1 = True, res2 = True\n",
    "a = False, b = False, res1 = True, res2 = True"
   ]
  },
  {
   "cell_type": "code",
   "execution_count": 5,
   "id": "fd0dba9e",
   "metadata": {},
   "outputs": [
    {
     "name": "stdout",
     "output_type": "stream",
     "text": [
      "Верно\n"
     ]
    }
   ],
   "source": [
    "a = True\n",
    "b = True\n",
    "res1 = True\n",
    "if ((not(a or b)) == ((not a) and (not b))) == res1:\n",
    "    print('Верно')\n",
    "else:\n",
    "    print('Неверно')"
   ]
  },
  {
   "cell_type": "code",
   "execution_count": 7,
   "id": "42872993",
   "metadata": {},
   "outputs": [
    {
     "name": "stdout",
     "output_type": "stream",
     "text": [
      "Верно\n"
     ]
    }
   ],
   "source": [
    "a = True\n",
    "b = True\n",
    "res2 = True\n",
    "if ((not(a and b)) == ((not a) or (not b))) == res2:\n",
    "    print('Верно')\n",
    "else:\n",
    "    print('Неверно')"
   ]
  },
  {
   "cell_type": "code",
   "execution_count": 8,
   "id": "292d2fd0",
   "metadata": {},
   "outputs": [
    {
     "name": "stdout",
     "output_type": "stream",
     "text": [
      "Верно\n"
     ]
    }
   ],
   "source": [
    "a = True\n",
    "b = False\n",
    "res1 = True\n",
    "if ((not(a or b)) == ((not a) and (not b))) == res1:\n",
    "    print('Верно')\n",
    "else:\n",
    "    print('Неверно')"
   ]
  },
  {
   "cell_type": "code",
   "execution_count": 9,
   "id": "208c2fdb",
   "metadata": {},
   "outputs": [
    {
     "name": "stdout",
     "output_type": "stream",
     "text": [
      "Верно\n"
     ]
    }
   ],
   "source": [
    "a = True\n",
    "b = False\n",
    "res2 = True\n",
    "if ((not(a and b)) == ((not a) or (not b))) == res2:\n",
    "    print('Верно')\n",
    "else:\n",
    "    print('Неверно')"
   ]
  },
  {
   "cell_type": "code",
   "execution_count": 10,
   "id": "95e2c7b1",
   "metadata": {},
   "outputs": [
    {
     "name": "stdout",
     "output_type": "stream",
     "text": [
      "Верно\n"
     ]
    }
   ],
   "source": [
    "a = False\n",
    "b = True\n",
    "res1 = True\n",
    "if ((not(a or b)) == ((not a) and (not b))) == res1:\n",
    "    print('Верно')\n",
    "else:\n",
    "    print('Неверно')"
   ]
  },
  {
   "cell_type": "code",
   "execution_count": 11,
   "id": "f4fb4f53",
   "metadata": {},
   "outputs": [
    {
     "name": "stdout",
     "output_type": "stream",
     "text": [
      "Верно\n"
     ]
    }
   ],
   "source": [
    "a = False\n",
    "b = True\n",
    "res2 = True\n",
    "if ((not(a and b)) == ((not a) or (not b))) == res2:\n",
    "    print('Верно')\n",
    "else:\n",
    "    print('Неверно')"
   ]
  },
  {
   "cell_type": "code",
   "execution_count": 12,
   "id": "1590a347",
   "metadata": {},
   "outputs": [
    {
     "name": "stdout",
     "output_type": "stream",
     "text": [
      "Верно\n"
     ]
    }
   ],
   "source": [
    "a = False\n",
    "b = False\n",
    "res1 = True\n",
    "if ((not(a or b)) == ((not a) and (not b))) == res1:\n",
    "    print('Верно')\n",
    "else:\n",
    "    print('Неверно')"
   ]
  },
  {
   "cell_type": "code",
   "execution_count": 13,
   "id": "04174ddf",
   "metadata": {},
   "outputs": [
    {
     "name": "stdout",
     "output_type": "stream",
     "text": [
      "Верно\n"
     ]
    }
   ],
   "source": [
    "a = False\n",
    "b = False\n",
    "res2 = True\n",
    "if ((not(a and b)) == ((not a) or (not b))) == res2:\n",
    "    print('Верно')\n",
    "else:\n",
    "    print('Неверно')"
   ]
  },
  {
   "cell_type": "markdown",
   "id": "750e53b6",
   "metadata": {},
   "source": [
    "2) x^2 > 6 - x\n",
    "   x > 0"
   ]
  },
  {
   "cell_type": "code",
   "execution_count": null,
   "id": "d63007f5",
   "metadata": {
    "scrolled": true
   },
   "outputs": [],
   "source": [
    "while True:\n",
    "    x = int(input('Введите число: '))\n",
    "    if (6 - x^2) < x > 0:\n",
    "        print('True')\n",
    "    else:\n",
    "        print('False')"
   ]
  },
  {
   "cell_type": "markdown",
   "id": "90346a0e",
   "metadata": {},
   "source": [
    "3)\n",
    " 0 <= a <= c\n",
    " 0 <= b < c\n",
    " b == 2\n",
    " 0 <= c < 5\n",
    " \n",
    " 0 <= a <= c > b == 2 < 5"
   ]
  },
  {
   "cell_type": "markdown",
   "id": "ef835f37",
   "metadata": {},
   "source": [
    "4)"
   ]
  },
  {
   "cell_type": "code",
   "execution_count": null,
   "id": "7dfdc31d",
   "metadata": {},
   "outputs": [],
   "source": [
    "s1 = 'string'\n",
    "s2 = 'String'\n",
    "s3 = 'strinG'\n",
    "s4 = 'stringlong'\n",
    "s5 = 'string'\n",
    "s6 = 'string'\n",
    "s7 = '_string'\n"
   ]
  },
  {
   "cell_type": "markdown",
   "id": "8bcbf0f6",
   "metadata": {},
   "source": [
    "5)"
   ]
  },
  {
   "cell_type": "code",
   "execution_count": null,
   "id": "d0ba80db",
   "metadata": {
    "scrolled": true
   },
   "outputs": [],
   "source": [
    "random_line = input('Введите строку: ')\n",
    "while True:\n",
    "    if '!!!' in random_line:\n",
    "        if random_line.startsWith('!!!') == True:\n",
    "            rline = random_line.replace('!!!','')\n",
    "            print('Nota bene; ', rline)\n",
    "        if '???' in random_line:\n",
    "            break\n",
    "        else:\n",
    "            print('exclaim')\n",
    "    if '???' in random_line:\n",
    "        print('question')\n",
    "    else:\n",
    "        print('random')\n",
    "    break"
   ]
  },
  {
   "cell_type": "markdown",
   "id": "0db49fbf",
   "metadata": {},
   "source": [
    "6)"
   ]
  },
  {
   "cell_type": "code",
   "execution_count": null,
   "id": "df1b6d48",
   "metadata": {
    "scrolled": true
   },
   "outputs": [],
   "source": [
    "random_line = input('Введите строку: ')\n",
    "n = len(random_line)\n",
    "if len(random_line) > 5:\n",
    "    while True:\n",
    "        if '!!!' in random_line:\n",
    "            if random_line.startsWith('!!!') == True:\n",
    "                rline = random_line.replace('!!!','')\n",
    "                print('Nota bene; ', rline)\n",
    "            if '???' in random_line:\n",
    "                break\n",
    "            else:\n",
    "                print('exclaim')\n",
    "        if '???' in random_line:\n",
    "            print('question')\n",
    "        else:\n",
    "            print('random')\n",
    "        break\n",
    "elif n % 2 == 0:\n",
    "    random_line += '-'\n",
    "    line1 = 3 * random_line\n",
    "    line2 = line1.replace('','-')\n",
    "    print(line2)\n",
    "    "
   ]
  },
  {
   "cell_type": "markdown",
   "id": "6392b4eb",
   "metadata": {},
   "source": [
    "7)"
   ]
  },
  {
   "cell_type": "code",
   "execution_count": null,
   "id": "a33e939f",
   "metadata": {},
   "outputs": [],
   "source": [
    "x = input('Введитеде х: ')\n",
    "y = input('Введите у: ')\n",
    "if 'banana' in x:\n",
    "    friend = x\n",
    "else:\n",
    "    friend = y\n",
    "print(friend)"
   ]
  }
 ],
 "metadata": {
  "kernelspec": {
   "display_name": "Python 3 (ipykernel)",
   "language": "python",
   "name": "python3"
  },
  "language_info": {
   "codemirror_mode": {
    "name": "ipython",
    "version": 3
   },
   "file_extension": ".py",
   "mimetype": "text/x-python",
   "name": "python",
   "nbconvert_exporter": "python",
   "pygments_lexer": "ipython3",
   "version": "3.11.4"
  }
 },
 "nbformat": 4,
 "nbformat_minor": 5
}
