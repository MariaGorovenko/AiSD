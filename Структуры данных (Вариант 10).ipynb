{
 "cells": [
  {
   "cell_type": "markdown",
   "id": "7530a3e1",
   "metadata": {},
   "source": [
    "### 32\n",
    "\n",
    "Используя модуль array и библиотеку numpy, решить следующие задачи:\n",
    "- а) Дан массив  𝐴  размера  𝑁 . Сформировать новый массив B того же размера по следующему правилу: элемент BK равен сумме элементов массива  𝐴  с номерами от  𝐾  до  𝑁 .\n",
    "- б) Дана матрица размера  𝑀×𝑁 . Упорядочить ее строки так, чтобы их первые элементы образовывали возрастающую последовательность."
   ]
  },
  {
   "cell_type": "code",
   "execution_count": 1,
   "id": "2253fc87",
   "metadata": {},
   "outputs": [],
   "source": [
    "from array import array\n",
    "import numpy as np"
   ]
  },
  {
   "cell_type": "markdown",
   "id": "dcb0133a",
   "metadata": {},
   "source": [
    "а)"
   ]
  },
  {
   "cell_type": "code",
   "execution_count": 2,
   "id": "9c0b068f",
   "metadata": {},
   "outputs": [
    {
     "name": "stdout",
     "output_type": "stream",
     "text": [
      "Введите количество элементов в массиве: 5\n",
      "Введите элемент массива: 1\n",
      "Введите элемент массива: 2\n",
      "Введите элемент массива: 3\n",
      "Введите элемент массива: 4\n",
      "Введите элемент массива: 5\n",
      "array('i', [1, 2, 3, 4, 5])\n"
     ]
    }
   ],
   "source": [
    "N = int(input('Введите количество элементов в массиве: '))\n",
    "\n",
    "arrA = array('i', [])\n",
    "for _ in range(N):\n",
    "    a = int(input('Введите элемент массива: '))\n",
    "    arrA.append(a)\n",
    "print(arrA)"
   ]
  },
  {
   "cell_type": "code",
   "execution_count": 3,
   "id": "9405c8c5",
   "metadata": {},
   "outputs": [
    {
     "name": "stdout",
     "output_type": "stream",
     "text": [
      "array('i', [15, 14, 12, 9, 5])\n"
     ]
    }
   ],
   "source": [
    "arrB = array('i', [])\n",
    "for i in range(N):\n",
    "    summaK_N = 0\n",
    "    for k in range(i, N):\n",
    "        summaK_N += arrA[k]\n",
    "    arrB.append(summaK_N)\n",
    "print(arrB)"
   ]
  },
  {
   "cell_type": "code",
   "execution_count": 4,
   "id": "dba8a054",
   "metadata": {},
   "outputs": [
    {
     "name": "stdout",
     "output_type": "stream",
     "text": [
      "[15 14 12  9  5]\n"
     ]
    }
   ],
   "source": [
    "# альтернативный вариант\n",
    "A = np.array([1, 2, 3, 4, 5])\n",
    "B = np.zeros_like(A)\n",
    "\n",
    "for k in range(len(A)):\n",
    "    B[k] = np.sum(A[k:])\n",
    "\n",
    "print(B)"
   ]
  },
  {
   "cell_type": "markdown",
   "id": "26212999",
   "metadata": {},
   "source": [
    "б)"
   ]
  },
  {
   "cell_type": "code",
   "execution_count": 5,
   "id": "64cf7c92",
   "metadata": {
    "scrolled": false
   },
   "outputs": [
    {
     "name": "stdout",
     "output_type": "stream",
     "text": [
      "Введите количество строк в матрице: 3\n",
      "Введите количество столбцов в матрице: 3\n",
      "Введите элемент матрицы (1, 1): 7\n",
      "Введите элемент матрицы (1, 2): 8\n",
      "Введите элемент матрицы (1, 3): 9\n",
      "Введите элемент матрицы (2, 1): 1\n",
      "Введите элемент матрицы (2, 2): 2\n",
      "Введите элемент матрицы (2, 3): 3\n",
      "Введите элемент матрицы (3, 1): 4\n",
      "Введите элемент матрицы (3, 2): 5\n",
      "Введите элемент матрицы (3, 3): 6\n",
      "[[7 8 9]\n",
      " [1 2 3]\n",
      " [4 5 6]]\n"
     ]
    }
   ],
   "source": [
    "M = int(input('Введите количество строк в матрице: '))\n",
    "N = int(input('Введите количество столбцов в матрице: '))\n",
    "\n",
    "arrM_N = []\n",
    "for i in range(M):\n",
    "    row = []\n",
    "    for j in range(N):\n",
    "        e = int(input('Введите элемент матрицы ({}, {}): '.format(i+1, j+1)))\n",
    "        row.append(e)\n",
    "    arrM_N.append(row)\n",
    "arrM_N = np.array(arrM_N)\n",
    "print(arrM_N)"
   ]
  },
  {
   "cell_type": "code",
   "execution_count": 6,
   "id": "464a1bc8",
   "metadata": {},
   "outputs": [
    {
     "name": "stdout",
     "output_type": "stream",
     "text": [
      "[[1 2 3]\n",
      " [4 5 6]\n",
      " [7 8 9]]\n"
     ]
    }
   ],
   "source": [
    "sorted_arrM_N = arrM_N[arrM_N[:,0].argsort()]\n",
    "print(sorted_arrM_N)"
   ]
  },
  {
   "cell_type": "markdown",
   "id": "e071b3a4",
   "metadata": {},
   "source": [
    "### 33\n",
    "\n",
    "Дан стек. Необходимо проверить, является ли его содержимое последовательностью арифметической прогрессии."
   ]
  },
  {
   "cell_type": "code",
   "execution_count": 1,
   "id": "9b96e73a",
   "metadata": {},
   "outputs": [],
   "source": [
    "from collections import deque\n",
    "\n",
    "class Stack(deque):\n",
    "    def push(self, a):\n",
    "        self.append(a)"
   ]
  },
  {
   "cell_type": "code",
   "execution_count": 2,
   "id": "4325519f",
   "metadata": {},
   "outputs": [
    {
     "name": "stdout",
     "output_type": "stream",
     "text": [
      "Введите количество элементов в стеке: 5\n",
      "Введите элемент для добавления в стек: 1\n",
      "Введите элемент для добавления в стек: 2\n",
      "Введите элемент для добавления в стек: 3\n",
      "Введите элемент для добавления в стек: 4\n",
      "Введите элемент для добавления в стек: 5\n",
      "Stack([1, 2, 3, 4, 5])\n"
     ]
    }
   ],
   "source": [
    "N = int(input('Введите количество элементов в стеке: '))\n",
    "S = Stack()\n",
    "for _ in range(N):\n",
    "    el = int(input('Введите элемент для добавления в стек: '))\n",
    "    S.push(el)\n",
    "print(S)"
   ]
  },
  {
   "cell_type": "code",
   "execution_count": 3,
   "id": "dafc7f4e",
   "metadata": {},
   "outputs": [],
   "source": [
    "def checking_for_arithmetic_progression(stack, N):\n",
    "    for i in range(N-2):\n",
    "        if stack[i+1]-stack[i] != stack[i+2]-stack[i+1]:\n",
    "            return False\n",
    "    return True"
   ]
  },
  {
   "cell_type": "code",
   "execution_count": 4,
   "id": "862b6ea4",
   "metadata": {},
   "outputs": [
    {
     "data": {
      "text/plain": [
       "True"
      ]
     },
     "execution_count": 4,
     "metadata": {},
     "output_type": "execute_result"
    }
   ],
   "source": [
    "checking_for_arithmetic_progression(S, N)"
   ]
  },
  {
   "cell_type": "markdown",
   "id": "2dfa9226",
   "metadata": {},
   "source": [
    "### 34\n",
    "\n",
    "Создать класс очереди, который будет хранить только элементы определенного типа данных. Тип элементов задается при инициализации объекта класса очереди. При добавлении элемента, если его тип не соответствует заданному, то он не должен добавляться."
   ]
  },
  {
   "cell_type": "code",
   "execution_count": 5,
   "id": "b2f0b251",
   "metadata": {},
   "outputs": [],
   "source": [
    "from typing import Type, List\n",
    "\n",
    "class Queue(deque):\n",
    "    def __init__(self, element_type: Type):\n",
    "        super().__init__()\n",
    "        self.element_type = element_type\n",
    "        self.elements: List[element_type] = [] # объявление атрибута elements в классе MyClass \n",
    "                                               # как списка элементов определенного типа\n",
    "    def enqueue(self, a):\n",
    "        if not isinstance(a, self.element_type):\n",
    "            print(f\"Неверный тип элемента. Ожидался тип {self.element_type}.\")\n",
    "            return None\n",
    "        self.append(a)\n",
    "\n",
    "    def dequeue(self):\n",
    "        return self.popleft()"
   ]
  },
  {
   "cell_type": "code",
   "execution_count": 6,
   "id": "5795ffe4",
   "metadata": {},
   "outputs": [
    {
     "name": "stdout",
     "output_type": "stream",
     "text": [
      "Неверный тип элемента. Ожидался тип <class 'int'>.\n"
     ]
    }
   ],
   "source": [
    "Q = Queue(int)\n",
    "Q.enqueue('element')"
   ]
  },
  {
   "cell_type": "code",
   "execution_count": 7,
   "id": "ab6a5dcc",
   "metadata": {},
   "outputs": [
    {
     "name": "stdout",
     "output_type": "stream",
     "text": [
      "Queue([1, 2, 3])\n"
     ]
    }
   ],
   "source": [
    "Q.enqueue(1)\n",
    "Q.enqueue(2)\n",
    "Q.enqueue(3)\n",
    "print(Q)"
   ]
  },
  {
   "cell_type": "markdown",
   "id": "e8161d58",
   "metadata": {},
   "source": [
    "### 35\n",
    "\n",
    "Создайте двусвязный список для хранения информации о заказах в интернетмагазине. Каждый элемент списка должен содержать номер заказа, дату создания, список товаров, их количество и стоимость, а также информацию о доставке и оплате."
   ]
  },
  {
   "cell_type": "code",
   "execution_count": 50,
   "id": "b1ced965",
   "metadata": {},
   "outputs": [
    {
     "name": "stdout",
     "output_type": "stream",
     "text": [
      "Номер заказа: 1\n",
      "Дата создания: 14.05.2024\n",
      "Список товаров: ['Товар1', 'Товар2']\n",
      "Количество товаров: ['Товар1', 'Товар2']\n",
      "Стоимость заказа: 150.5\n",
      "Информация о доставке: [2, 3]\n",
      "Информация об оплате: 150.5\n",
      "-------------------------\n",
      "Номер заказа: 2\n",
      "Дата создания: 14.04.2024\n",
      "Список товаров: ['Товар3', 'Товар4']\n",
      "Количество товаров: ['Товар3', 'Товар4']\n",
      "Стоимость заказа: 80.25\n",
      "Информация о доставке: [1, 2]\n",
      "Информация об оплате: 80.25\n",
      "-------------------------\n",
      "Номер заказа: 3\n",
      "Дата создания: 14.03.2024\n",
      "Список товаров: ['Товар5']\n",
      "Количество товаров: ['Товар5']\n",
      "Стоимость заказа: 30.0\n",
      "Информация о доставке: [1]\n",
      "Информация об оплате: 30.0\n",
      "-------------------------\n"
     ]
    }
   ],
   "source": [
    "class Order:\n",
    "    def __init__(self, order_number, creation_date, products, delivery_info, payment_info):\n",
    "        self.order_number = order_number\n",
    "        self.creation_date = creation_date\n",
    "        self.products = products\n",
    "        self.delivery_info = delivery_info\n",
    "        self.payment_info = payment_info\n",
    "        self.prev = None # ссылка на предыдущий заказ\n",
    "        self.next = None # ссылка на следующий заказ\n",
    "\n",
    "# Пример создания элементов двусвязного списка\n",
    "order1 = Order(1, \"14.05.2024\", [\"Товар1\", \"Товар2\"], [2, 3], 150.50)\n",
    "order2 = Order(2, \"14.04.2024\", [\"Товар3\", \"Товар4\"], [1, 2], 80.25)\n",
    "order3 = Order(3, \"14.03.2024\", [\"Товар5\"], [1], 30.00)\n",
    "orders = [order1, order2, order3]\n",
    "\n",
    "# Связывание элементов в двусвязный список\n",
    "for i in range(len(orders)-1):\n",
    "    orders[i].next = orders[i+1]\n",
    "for i in range(1, len(orders)):\n",
    "    orders[i].prev = orders[i-1]\n",
    "\n",
    "# Пример обращения к элементам списка\n",
    "current_order = orders[0]\n",
    "while current_order:\n",
    "    print(f\"Номер заказа: {current_order.order_number}\")\n",
    "    print(f\"Дата создания: {current_order.creation_date}\")\n",
    "    print(f\"Список товаров: {current_order.products}\")\n",
    "    print(f\"Количество товаров: {current_order.products}\")\n",
    "    print(f\"Стоимость заказа: {current_order.payment_info}\")\n",
    "    print(f\"Информация о доставке: {current_order.delivery_info}\")\n",
    "    print(f\"Информация об оплате: {current_order.payment_info}\")\n",
    "    print(\"-------------------------\")\n",
    "    current_order = current_order.next"
   ]
  },
  {
   "cell_type": "markdown",
   "id": "0edac693",
   "metadata": {},
   "source": [
    "### 36\n",
    "\n",
    "Реализовать функцию, которая разделяет двусвязный список на два списка, один из которых содержит все элементы, меньшие заданного значения, а другой — все элементы, большие или равные заданному значению."
   ]
  },
  {
   "cell_type": "code",
   "execution_count": 20,
   "id": "eab83637",
   "metadata": {},
   "outputs": [],
   "source": [
    "class Node(): # класс для создания узла с информацией data\n",
    "    def __init__(self, data):\n",
    "        self.data = data\n",
    "        self.prev = None\n",
    "        self.next = None\n",
    "\n",
    "class DoublyLinkedList: # класс для создания двусвязного списка\n",
    "    def __init__(self):\n",
    "        self.head = None\n",
    "        self.tail = None\n",
    "        \n",
    "    def add_node(self, data): # добавление узла в конец двунаправленного списка \n",
    "        new_node = Node(data)\n",
    "        if not self.head:\n",
    "            self.head = new_node\n",
    "            self.tail = new_node\n",
    "        else:\n",
    "            new_node.prev = self.tail\n",
    "            self.tail.next = new_node\n",
    "            self.tail = new_node\n",
    "            \n",
    "    def add_node_alternative(self, data): # альтернативный вариант добавления узла \n",
    "        new_node = Node(data)\n",
    "        if self.head is None:\n",
    "            self.head = new_node\n",
    "        else:\n",
    "            current = self.head\n",
    "            while current is not None:\n",
    "                current = current.next\n",
    "            current.next = new_node\n",
    "            new_node.prev = current\n",
    "            \n",
    "    def __str__(self): # магический метод для вывода информации\n",
    "        if self.head == None:\n",
    "            return 'Двусвязный список пуст'\n",
    "        current = self.head\n",
    "        dllist_str = ''\n",
    "        while current:\n",
    "            dllist_str += ' <> ' + str(current.data)\n",
    "            current = current.next\n",
    "        return dllist_str.lstrip(' <> ')\n",
    "    \n",
    "# .lstrip() используется для удаления пробельных символов с начала строки,\n",
    "# метод будет удалять указанные символы только с начала строки"
   ]
  },
  {
   "cell_type": "code",
   "execution_count": 51,
   "id": "98c7ce0e",
   "metadata": {},
   "outputs": [
    {
     "name": "stdout",
     "output_type": "stream",
     "text": [
      "1 <> 2 <> 3 <> 4\n"
     ]
    }
   ],
   "source": [
    "DLL = DoublyLinkedList()\n",
    "DLL.add_node(1)\n",
    "DLL.add_node(2)\n",
    "DLL.add_node(3)\n",
    "DLL.add_node(4)\n",
    "print(DLL)"
   ]
  },
  {
   "cell_type": "code",
   "execution_count": 52,
   "id": "eb064298",
   "metadata": {},
   "outputs": [
    {
     "name": "stdout",
     "output_type": "stream",
     "text": [
      "1 <> 2\n",
      "3 <> 4\n"
     ]
    }
   ],
   "source": [
    "dll1 = DoublyLinkedList()\n",
    "dll2 = DoublyLinkedList()\n",
    "\n",
    "def distribution(head, value):\n",
    "    current = head\n",
    "    while current:\n",
    "        if current.data < value:\n",
    "            dll1.add_node(current.data)\n",
    "        elif current.data >= value:\n",
    "            dll2.add_node(current.data)\n",
    "        current = current.next\n",
    "        \n",
    "distribution(DLL.head, 3)\n",
    "print(dll1)\n",
    "print(dll2)"
   ]
  },
  {
   "cell_type": "markdown",
   "id": "cd7be51d",
   "metadata": {},
   "source": [
    "### 37\n",
    "\n",
    "Реализовать функцию, которая проверяет, содержится ли заданный элемент в циклическом двусвязном списке."
   ]
  },
  {
   "cell_type": "code",
   "execution_count": 38,
   "id": "c29fa1e3",
   "metadata": {},
   "outputs": [],
   "source": [
    "class DoublyLinkedList_cyclical: # класс для создания двусвязного списка\n",
    "    def __init__(self):\n",
    "        self.head = None\n",
    "        self.tail = None\n",
    "        \n",
    "    def add_node(self, data):\n",
    "        new_node = Node(data)\n",
    "        if self.head is None:\n",
    "            self.head = new_node\n",
    "            self.tail = new_node\n",
    "            new_node.next = self.head\n",
    "            new_node.prev = self.head\n",
    "        else:\n",
    "            new_node.prev = self.tail\n",
    "            new_node.next = self.head\n",
    "            self.tail.next = new_node\n",
    "            self.tail = new_node\n",
    "            self.head.prev = self.tail\n",
    "            \n",
    "    def display_list(self):\n",
    "        current = self.head\n",
    "        while current is not None and current.next is not self.head:\n",
    "            print(current.data)\n",
    "            current = current.next\n",
    "        if current is not None:\n",
    "            print(current.data)\n",
    "          "
   ]
  },
  {
   "cell_type": "code",
   "execution_count": 40,
   "id": "61f2af68",
   "metadata": {},
   "outputs": [
    {
     "name": "stdout",
     "output_type": "stream",
     "text": [
      "1\n",
      "2\n",
      "3\n",
      "4\n"
     ]
    }
   ],
   "source": [
    "DLL_cycl = DoublyLinkedList_cyclical()\n",
    "DLL_cycl.add_node(1)\n",
    "DLL_cycl.add_node(2)\n",
    "DLL_cycl.add_node(3)\n",
    "DLL_cycl.add_node(4)\n",
    "DLL_cycl.display_list()"
   ]
  },
  {
   "cell_type": "code",
   "execution_count": 49,
   "id": "59cfb15e",
   "metadata": {},
   "outputs": [
    {
     "data": {
      "text/plain": [
       "(False, True)"
      ]
     },
     "execution_count": 49,
     "metadata": {},
     "output_type": "execute_result"
    }
   ],
   "source": [
    "def distribution(head, value):\n",
    "    current = head\n",
    "    while current is not None and current.next is not head:\n",
    "        if current.data == value:\n",
    "            return True\n",
    "        current = current.next\n",
    "    if current is not None:\n",
    "        if current.data == value:\n",
    "            return True\n",
    "    return False\n",
    "        \n",
    "distribution(DLL_cycl.head, 10), distribution(DLL_cycl.head, 3)"
   ]
  },
  {
   "cell_type": "code",
   "execution_count": null,
   "id": "5a294a33",
   "metadata": {},
   "outputs": [],
   "source": []
  }
 ],
 "metadata": {
  "kernelspec": {
   "display_name": "Python 3 (ipykernel)",
   "language": "python",
   "name": "python3"
  },
  "language_info": {
   "codemirror_mode": {
    "name": "ipython",
    "version": 3
   },
   "file_extension": ".py",
   "mimetype": "text/x-python",
   "name": "python",
   "nbconvert_exporter": "python",
   "pygments_lexer": "ipython3",
   "version": "3.11.4"
  }
 },
 "nbformat": 4,
 "nbformat_minor": 5
}
