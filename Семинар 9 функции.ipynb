{
 "cells": [
  {
   "cell_type": "code",
   "execution_count": 1,
   "id": "92731b17",
   "metadata": {},
   "outputs": [],
   "source": [
    "l1 = ['1','123','123','12','1','123']\n",
    "l2 = [2,4,-2,-3,0,11,3,-1]\n",
    "d4 = {1:10, 2:20, 3:30, 4:40, 5:50, 6:60}\n",
    "d5 = {'a':3, 'b':4, 'c':5, 'd':6, 'e':7, 'f':21, 'g':9}\n",
    "d6 = {'e':20, 'f':21, 'g':22, 'h':23, 'i':24, 'j':25, 'k':26, 'l':27}"
   ]
  },
  {
   "cell_type": "code",
   "execution_count": 2,
   "id": "c281d726",
   "metadata": {},
   "outputs": [
    {
     "data": {
      "text/plain": [
       "[1, 3, 3, 2, 1, 3]"
      ]
     },
     "execution_count": 2,
     "metadata": {},
     "output_type": "execute_result"
    }
   ],
   "source": [
    "# 4.13)\n",
    "l_13 = [len(i) for i in l1]\n",
    "l_13"
   ]
  },
  {
   "cell_type": "code",
   "execution_count": 3,
   "id": "42079ace",
   "metadata": {},
   "outputs": [
    {
     "data": {
      "text/plain": [
       "3"
      ]
     },
     "execution_count": 3,
     "metadata": {},
     "output_type": "execute_result"
    }
   ],
   "source": [
    "# 4.14)\n",
    "len([i for i in l1 if len(i)>2])"
   ]
  },
  {
   "cell_type": "code",
   "execution_count": 9,
   "id": "75ff6a39",
   "metadata": {},
   "outputs": [
    {
     "data": {
      "text/plain": [
       "910"
      ]
     },
     "execution_count": 9,
     "metadata": {},
     "output_type": "execute_result"
    }
   ],
   "source": [
    "# 4.15)\n",
    "sum([k*v for (k,v) in d4.items()])"
   ]
  },
  {
   "cell_type": "code",
   "execution_count": 10,
   "id": "85099584",
   "metadata": {},
   "outputs": [
    {
     "data": {
      "text/plain": [
       "{'h': 23, 'i': 24, 'j': 25, 'k': 26, 'l': 27}"
      ]
     },
     "execution_count": 10,
     "metadata": {},
     "output_type": "execute_result"
    }
   ],
   "source": [
    "# 4.16)\n",
    "d7 = {k:v for k,v in d6.items() if k not in d5}\n",
    "d7"
   ]
  },
  {
   "cell_type": "code",
   "execution_count": 11,
   "id": "d265e941",
   "metadata": {},
   "outputs": [
    {
     "data": {
      "text/plain": [
       "[0, 4, -4, -9, 0, 55, 18, -7]"
      ]
     },
     "execution_count": 11,
     "metadata": {},
     "output_type": "execute_result"
    }
   ],
   "source": [
    "# 4.17)\n",
    "l_17 = [i*l2.index(i) for i in l2]\n",
    "l_17"
   ]
  },
  {
   "cell_type": "code",
   "execution_count": 15,
   "id": "7403cae7",
   "metadata": {},
   "outputs": [
    {
     "data": {
      "text/plain": [
       "[2, 4, 0, 11, 3]"
      ]
     },
     "execution_count": 15,
     "metadata": {},
     "output_type": "execute_result"
    }
   ],
   "source": [
    "# 4.18)\n",
    "l_18 = [i for i in l2 if i >= 0]\n",
    "l_18"
   ]
  },
  {
   "cell_type": "code",
   "execution_count": 14,
   "id": "fee16a67",
   "metadata": {},
   "outputs": [
    {
     "data": {
      "text/plain": [
       "[2, 4, 2, 3, 0, 11, 3, 7]"
      ]
     },
     "execution_count": 14,
     "metadata": {},
     "output_type": "execute_result"
    }
   ],
   "source": [
    "# 4.19)\n",
    "l_19 = [i if i >= 0 else l2.index(i) for i in l2]\n",
    "l_19"
   ]
  },
  {
   "cell_type": "code",
   "execution_count": 34,
   "id": "74ffc9be",
   "metadata": {},
   "outputs": [],
   "source": [
    "# 5.1)\n",
    "def multiplication_1(a,b):\n",
    "    \"\"\"функция multiplication_1 вернет произведение двух чисел\"\"\"\n",
    "    return a*b"
   ]
  },
  {
   "cell_type": "code",
   "execution_count": 35,
   "id": "1dd44b8f",
   "metadata": {},
   "outputs": [
    {
     "data": {
      "text/plain": [
       "6"
      ]
     },
     "execution_count": 35,
     "metadata": {},
     "output_type": "execute_result"
    }
   ],
   "source": [
    "multiplication_1(2,3)"
   ]
  },
  {
   "cell_type": "code",
   "execution_count": 36,
   "id": "4eb4f1ac",
   "metadata": {},
   "outputs": [
    {
     "data": {
      "text/plain": [
       "10.579999999999998"
      ]
     },
     "execution_count": 36,
     "metadata": {},
     "output_type": "execute_result"
    }
   ],
   "source": [
    "multiplication_1(4.6,2.3)"
   ]
  },
  {
   "cell_type": "code",
   "execution_count": 72,
   "id": "a467128e",
   "metadata": {},
   "outputs": [],
   "source": [
    "# 5.2) и 5.3) и 5.4)\n",
    "def multiplication_2(*t):\n",
    "    rez = 1\n",
    "    for i in t:\n",
    "        rez *= i\n",
    "    return rez"
   ]
  },
  {
   "cell_type": "code",
   "execution_count": 73,
   "id": "0154bf7f",
   "metadata": {},
   "outputs": [],
   "source": [
    "# 5.3)\n",
    "a1 = (15,10,5)\n",
    "a2 = (3,1)\n",
    "a3 = [2,35,55]\n",
    "a4 = (5,10,15,20)"
   ]
  },
  {
   "cell_type": "code",
   "execution_count": 74,
   "id": "1c0cdfb9",
   "metadata": {},
   "outputs": [
    {
     "data": {
      "text/plain": [
       "750"
      ]
     },
     "execution_count": 74,
     "metadata": {},
     "output_type": "execute_result"
    }
   ],
   "source": [
    "multiplication_2(*a1)"
   ]
  },
  {
   "cell_type": "code",
   "execution_count": 75,
   "id": "13b3643d",
   "metadata": {},
   "outputs": [
    {
     "data": {
      "text/plain": [
       "3"
      ]
     },
     "execution_count": 75,
     "metadata": {},
     "output_type": "execute_result"
    }
   ],
   "source": [
    "multiplication_2(*a2)"
   ]
  },
  {
   "cell_type": "code",
   "execution_count": 76,
   "id": "3bdc3e6f",
   "metadata": {},
   "outputs": [
    {
     "data": {
      "text/plain": [
       "3850"
      ]
     },
     "execution_count": 76,
     "metadata": {},
     "output_type": "execute_result"
    }
   ],
   "source": [
    "multiplication_2(*a3)"
   ]
  },
  {
   "cell_type": "code",
   "execution_count": 77,
   "id": "1d1a0c5c",
   "metadata": {},
   "outputs": [
    {
     "data": {
      "text/plain": [
       "15000"
      ]
     },
     "execution_count": 77,
     "metadata": {},
     "output_type": "execute_result"
    }
   ],
   "source": [
    "multiplication_2(*a4)"
   ]
  },
  {
   "cell_type": "code",
   "execution_count": 78,
   "id": "232ab56d",
   "metadata": {},
   "outputs": [
    {
     "data": {
      "text/plain": [
       "750"
      ]
     },
     "execution_count": 78,
     "metadata": {},
     "output_type": "execute_result"
    }
   ],
   "source": [
    "multiplication_2(*a4[:3])"
   ]
  },
  {
   "cell_type": "code",
   "execution_count": 79,
   "id": "12c36ec6",
   "metadata": {},
   "outputs": [
    {
     "data": {
      "text/plain": [
       "3000"
      ]
     },
     "execution_count": 79,
     "metadata": {},
     "output_type": "execute_result"
    }
   ],
   "source": [
    "multiplication_2(*a4[-3:])"
   ]
  },
  {
   "cell_type": "code",
   "execution_count": 81,
   "id": "1bca63ca",
   "metadata": {},
   "outputs": [],
   "source": [
    "# 5.5)\n",
    "def operation(op):\n",
    "    \"\"\"функция для осуществления указанной пользователем операции над числами 6 и 3\"\"\"\n",
    "    a = '6'\n",
    "    b = '3'\n",
    "    rez = eval(a + op + b)\n",
    "    return rez"
   ]
  },
  {
   "cell_type": "code",
   "execution_count": 82,
   "id": "ce8b88ec",
   "metadata": {},
   "outputs": [
    {
     "data": {
      "text/plain": [
       "9"
      ]
     },
     "execution_count": 82,
     "metadata": {},
     "output_type": "execute_result"
    }
   ],
   "source": [
    "operation('+')"
   ]
  },
  {
   "cell_type": "code",
   "execution_count": 83,
   "id": "fc516da8",
   "metadata": {},
   "outputs": [
    {
     "data": {
      "text/plain": [
       "3"
      ]
     },
     "execution_count": 83,
     "metadata": {},
     "output_type": "execute_result"
    }
   ],
   "source": [
    "operation('-')"
   ]
  },
  {
   "cell_type": "code",
   "execution_count": 84,
   "id": "ebf5bbaf",
   "metadata": {},
   "outputs": [
    {
     "data": {
      "text/plain": [
       "18"
      ]
     },
     "execution_count": 84,
     "metadata": {},
     "output_type": "execute_result"
    }
   ],
   "source": [
    "operation('*')"
   ]
  },
  {
   "cell_type": "code",
   "execution_count": 85,
   "id": "833902ea",
   "metadata": {},
   "outputs": [
    {
     "data": {
      "text/plain": [
       "2.0"
      ]
     },
     "execution_count": 85,
     "metadata": {},
     "output_type": "execute_result"
    }
   ],
   "source": [
    "operation('/')"
   ]
  },
  {
   "cell_type": "code",
   "execution_count": 115,
   "id": "b7afe90f",
   "metadata": {},
   "outputs": [],
   "source": [
    "# 5.6)\n",
    "def calc(op):\n",
    "    if '^' in op:\n",
    "        rez = eval(op.replace('^','**'))\n",
    "    else:\n",
    "        rez = eval(op)\n",
    "    return rez"
   ]
  },
  {
   "cell_type": "code",
   "execution_count": 116,
   "id": "9d43b53d",
   "metadata": {},
   "outputs": [
    {
     "data": {
      "text/plain": [
       "10"
      ]
     },
     "execution_count": 116,
     "metadata": {},
     "output_type": "execute_result"
    }
   ],
   "source": [
    "calc('7 + 3')"
   ]
  },
  {
   "cell_type": "code",
   "execution_count": 117,
   "id": "254fc732",
   "metadata": {},
   "outputs": [
    {
     "data": {
      "text/plain": [
       "4"
      ]
     },
     "execution_count": 117,
     "metadata": {},
     "output_type": "execute_result"
    }
   ],
   "source": [
    "calc('7 - 3')"
   ]
  },
  {
   "cell_type": "code",
   "execution_count": 118,
   "id": "a70b25cc",
   "metadata": {},
   "outputs": [
    {
     "data": {
      "text/plain": [
       "21"
      ]
     },
     "execution_count": 118,
     "metadata": {},
     "output_type": "execute_result"
    }
   ],
   "source": [
    "calc('7 * 3')"
   ]
  },
  {
   "cell_type": "code",
   "execution_count": 119,
   "id": "8c45d88a",
   "metadata": {},
   "outputs": [
    {
     "data": {
      "text/plain": [
       "2.0"
      ]
     },
     "execution_count": 119,
     "metadata": {},
     "output_type": "execute_result"
    }
   ],
   "source": [
    "calc('6 / 3')"
   ]
  },
  {
   "cell_type": "code",
   "execution_count": 120,
   "id": "5054b70f",
   "metadata": {},
   "outputs": [
    {
     "data": {
      "text/plain": [
       "1"
      ]
     },
     "execution_count": 120,
     "metadata": {},
     "output_type": "execute_result"
    }
   ],
   "source": [
    "calc('7 % 3')"
   ]
  },
  {
   "cell_type": "code",
   "execution_count": 121,
   "id": "d191d0c2",
   "metadata": {},
   "outputs": [
    {
     "data": {
      "text/plain": [
       "8"
      ]
     },
     "execution_count": 121,
     "metadata": {},
     "output_type": "execute_result"
    }
   ],
   "source": [
    "calc('2 ^ 3')"
   ]
  },
  {
   "cell_type": "code",
   "execution_count": 124,
   "id": "c2e2ab49",
   "metadata": {},
   "outputs": [],
   "source": [
    "# 5.7)\n",
    "def auto(марка='BMW',модель='X5',цвет='белый',год=2006,пробег=215000,номер='X012AM77',цена=1115000):\n",
    "    return f'Автомобиль марки: {марка}, модели: {модель}, цвета: {цвет}, {год} года выпуска, с пробегом: {пробег} км, с номерным знаком {номер}, цена: {цена} руб'"
   ]
  },
  {
   "cell_type": "code",
   "execution_count": 125,
   "id": "b7e37e11",
   "metadata": {},
   "outputs": [
    {
     "data": {
      "text/plain": [
       "'Автомобиль марки: BMW, модели: X5, цвета: белый, 2006 года выпуска, с пробегом: 215000 км, с номерным знаком X012AM77, цена: 1115000 руб'"
      ]
     },
     "execution_count": 125,
     "metadata": {},
     "output_type": "execute_result"
    }
   ],
   "source": [
    "auto()"
   ]
  },
  {
   "cell_type": "code",
   "execution_count": 127,
   "id": "21878c77",
   "metadata": {},
   "outputs": [
    {
     "data": {
      "text/plain": [
       "'Автомобиль марки: BMW, модели: X5, цвета: синий, 2006 года выпуска, с пробегом: 215000 км, с номерным знаком АХ8698ВР, цена: 1115000 руб'"
      ]
     },
     "execution_count": 127,
     "metadata": {},
     "output_type": "execute_result"
    }
   ],
   "source": [
    "auto(цвет='синий',номер='АХ8698ВР')"
   ]
  },
  {
   "cell_type": "code",
   "execution_count": 126,
   "id": "1608480b",
   "metadata": {},
   "outputs": [
    {
     "data": {
      "text/plain": [
       "'Автомобиль марки: VOLVO, модели: XC40, цвета: черный, 2018 года выпуска, с пробегом: 15000 км, с номерным знаком АХ0713КА, цена: 2385000 руб'"
      ]
     },
     "execution_count": 126,
     "metadata": {},
     "output_type": "execute_result"
    }
   ],
   "source": [
    "auto(марка='VOLVO',модель='XC40',цвет='черный',год=2018,пробег=15000,номер='АХ0713КА',цена=2385000)"
   ]
  },
  {
   "cell_type": "code",
   "execution_count": 128,
   "id": "5061f273",
   "metadata": {},
   "outputs": [],
   "source": [
    "# ДЛЯ 5.8) и 5.9)\n",
    "a = ['ноль','один','два','три','четыре','пять','шесть','семь','восемь','девять']\n",
    "b = ['одиннадцать','двенадцать','тринадцать','четырнадцать','пятнадцать','шестнадцать','семнадцать','восемнадцать','девятнадцать']\n",
    "c = ['десять','двадцать','тридцать','сорок','пятьдесят','шестьдесят','семьдесят','восемьдесят','девяносто']\n",
    "c1 = [10,20,30,40,50,60,70,80,90]\n",
    "d1 = dict(zip(a,range(10)))\n",
    "d2 = dict(zip(b,range(11,20)))\n",
    "d3 = dict(zip(c, c1))"
   ]
  },
  {
   "cell_type": "code",
   "execution_count": 181,
   "id": "1dddeb6f",
   "metadata": {},
   "outputs": [],
   "source": [
    "# 5.8)\n",
    "def to_text(n):\n",
    "    for k1,v1 in d1.items():\n",
    "        for k2,v2 in d2.items():\n",
    "            for k3,v3 in d3.items():\n",
    "                if n < 10:\n",
    "                    if n == v1:\n",
    "                        rez = k1\n",
    "                elif n == v2:\n",
    "                    rez = k2\n",
    "                elif n == v3:\n",
    "                    rez = k3\n",
    "                else:\n",
    "                    if int(str(n)[0])*10 == v3 and int(str(n)[1]) == v1:\n",
    "                        rez = k3 + ' ' + k1 \n",
    "    return rez"
   ]
  },
  {
   "cell_type": "code",
   "execution_count": 183,
   "id": "108e4b28",
   "metadata": {},
   "outputs": [
    {
     "data": {
      "text/plain": [
       "'пять'"
      ]
     },
     "execution_count": 183,
     "metadata": {},
     "output_type": "execute_result"
    }
   ],
   "source": [
    "to_text(5)"
   ]
  },
  {
   "cell_type": "code",
   "execution_count": 184,
   "id": "8f8bef2c",
   "metadata": {},
   "outputs": [
    {
     "data": {
      "text/plain": [
       "'пятнадцать'"
      ]
     },
     "execution_count": 184,
     "metadata": {},
     "output_type": "execute_result"
    }
   ],
   "source": [
    "to_text(15)"
   ]
  },
  {
   "cell_type": "code",
   "execution_count": 185,
   "id": "00b97eea",
   "metadata": {},
   "outputs": [
    {
     "data": {
      "text/plain": [
       "'двадцать'"
      ]
     },
     "execution_count": 185,
     "metadata": {},
     "output_type": "execute_result"
    }
   ],
   "source": [
    "to_text(20)"
   ]
  },
  {
   "cell_type": "code",
   "execution_count": 186,
   "id": "35fcdda9",
   "metadata": {},
   "outputs": [
    {
     "data": {
      "text/plain": [
       "'двадцать три'"
      ]
     },
     "execution_count": 186,
     "metadata": {},
     "output_type": "execute_result"
    }
   ],
   "source": [
    "to_text(23)"
   ]
  },
  {
   "cell_type": "code",
   "execution_count": 187,
   "id": "2ad9c403",
   "metadata": {},
   "outputs": [],
   "source": [
    "# 5.9)\n",
    "import re\n",
    "e = ['сто','двести','триста','четыреста','пятьсот','шестьсот','семьсот','восемьсот','девятьсот']\n",
    "e1 = [100,200,300,400,500,600,700,800,900]\n",
    "d4 = dict(zip(e,e1))\n",
    "def to_int(n):\n",
    "    for k1,v1 in d1.items():\n",
    "        for k2,v2 in d2.items():\n",
    "            for k3,v3 in d3.items():\n",
    "                for k4,v4 in d4.items():\n",
    "                    if n == k1:\n",
    "                        rez = v1\n",
    "                    elif n == k2:\n",
    "                        rez = v2\n",
    "                    elif n == k3:\n",
    "                        rez = v3\n",
    "                    elif n == k4:\n",
    "                        rez = v4\n",
    "                    else:\n",
    "                        l = re.split(' ', n)\n",
    "                        if len(l) == 2:\n",
    "                            if l[0] == k3 and l[1] == k1:\n",
    "                                rez = v3 + v1\n",
    "                            elif l[0] == k4 and l[1] == k1:\n",
    "                                rez = v4 + v1\n",
    "                            elif l[0] == k4 and l[1] == k3:\n",
    "                                rez = v4 + v3\n",
    "                        elif len(l) == 3:\n",
    "                            if l[0] == k4 and l[1] == k3 and l[2] == k1:\n",
    "                                rez = v4 + v3 + v1\n",
    "    return rez                    "
   ]
  },
  {
   "cell_type": "code",
   "execution_count": 188,
   "id": "6c9fd648",
   "metadata": {},
   "outputs": [
    {
     "data": {
      "text/plain": [
       "2"
      ]
     },
     "execution_count": 188,
     "metadata": {},
     "output_type": "execute_result"
    }
   ],
   "source": [
    "to_int('два')"
   ]
  },
  {
   "cell_type": "code",
   "execution_count": 189,
   "id": "f257be6f",
   "metadata": {},
   "outputs": [
    {
     "data": {
      "text/plain": [
       "12"
      ]
     },
     "execution_count": 189,
     "metadata": {},
     "output_type": "execute_result"
    }
   ],
   "source": [
    "to_int('двенадцать')"
   ]
  },
  {
   "cell_type": "code",
   "execution_count": 190,
   "id": "ddd4f25b",
   "metadata": {},
   "outputs": [
    {
     "data": {
      "text/plain": [
       "20"
      ]
     },
     "execution_count": 190,
     "metadata": {},
     "output_type": "execute_result"
    }
   ],
   "source": [
    "to_int('двадцать')"
   ]
  },
  {
   "cell_type": "code",
   "execution_count": 194,
   "id": "c6748000",
   "metadata": {},
   "outputs": [
    {
     "data": {
      "text/plain": [
       "200"
      ]
     },
     "execution_count": 194,
     "metadata": {},
     "output_type": "execute_result"
    }
   ],
   "source": [
    "to_int('двести')"
   ]
  },
  {
   "cell_type": "code",
   "execution_count": 191,
   "id": "e2b075ea",
   "metadata": {},
   "outputs": [
    {
     "data": {
      "text/plain": [
       "22"
      ]
     },
     "execution_count": 191,
     "metadata": {},
     "output_type": "execute_result"
    }
   ],
   "source": [
    "to_int('двадцать два')"
   ]
  },
  {
   "cell_type": "code",
   "execution_count": 192,
   "id": "7ec90da0",
   "metadata": {},
   "outputs": [
    {
     "data": {
      "text/plain": [
       "102"
      ]
     },
     "execution_count": 192,
     "metadata": {},
     "output_type": "execute_result"
    }
   ],
   "source": [
    "to_int('сто два')"
   ]
  },
  {
   "cell_type": "code",
   "execution_count": 193,
   "id": "7a097b53",
   "metadata": {},
   "outputs": [
    {
     "data": {
      "text/plain": [
       "120"
      ]
     },
     "execution_count": 193,
     "metadata": {},
     "output_type": "execute_result"
    }
   ],
   "source": [
    "to_int('сто двадцать')"
   ]
  },
  {
   "cell_type": "code",
   "execution_count": 195,
   "id": "98cf770e",
   "metadata": {},
   "outputs": [
    {
     "data": {
      "text/plain": [
       "222"
      ]
     },
     "execution_count": 195,
     "metadata": {},
     "output_type": "execute_result"
    }
   ],
   "source": [
    "to_int('двести двадцать два')"
   ]
  },
  {
   "cell_type": "code",
   "execution_count": 196,
   "id": "c2a9c589",
   "metadata": {},
   "outputs": [
    {
     "name": "stdout",
     "output_type": "stream",
     "text": [
      "Введите пример: двадцать два умножить на двадцать два\n",
      "четыреста восемьдесят четыре\n"
     ]
    }
   ],
   "source": [
    "# 6.1)\n",
    "import re\n",
    "a = ['ноль','один','два','три','четыре','пять','шесть','семь','восемь','девять']\n",
    "b = ['одиннадцать','двенадцать','тринадцать','четырнадцать','пятнадцать','шестнадцать','семнадцать','восемнадцать','девятнадцать']\n",
    "c = ['десять','двадцать','тридцать','сорок','пятьдесят','шестьдесят','семьдесят','восемьдесят','девяносто']\n",
    "d = ['плюс','минус','умножить на']\n",
    "\n",
    "# списки для вывода ответа\n",
    "e = ['сто','двести','триста','четыреста','пятьсот','шестьсот','семьсот','восемьсот','девятьсот']\n",
    "f = ['одна','две','три','четыре','пять','шесть','семь','восемь','девять']\n",
    "s = input('Введите пример: ')\n",
    "l = re.split(' ', s)\n",
    "if 'на' in l:\n",
    "    l.pop(l.index('на'))\n",
    "# Функция для определения операндов\n",
    "def operand(ind1,ind2): \n",
    "    \n",
    "    for i in range(10):  \n",
    "        for j in range(9):\n",
    "            if l[ind2] in d:           # если число односоставное\n",
    "                if l[ind1] == a[i]:\n",
    "                    n = i\n",
    "                elif l[ind1] == b[j]:\n",
    "                    n = (j+1) + 10\n",
    "                elif l[ind1] == c[j]:\n",
    "                    n = (j+1)*10 \n",
    "            if l[ind2] not in d:       # если число двусоставное\n",
    "                if l[ind2] == a[i] and l[ind1] == c[j]:   # первое число двусоставное\n",
    "                    n = (j+1)*10 + i \n",
    "                if l[ind1] == a[i] and l[ind2] == c[j]:   # второе число двусоставное\n",
    "                        n = (j+1)*10 + i \n",
    "    return n\n",
    "    \n",
    "# Вывод результата\n",
    "def calc(l):\n",
    "    \n",
    "    n1 = operand(0,1)     # цифровой вид первого число\n",
    "    n2 = operand(-1,-2)   # цифровой вид второго числа\n",
    "    \n",
    "    # СЧИТАЕМ\n",
    "    for i in range(1):\n",
    "        if l[1] in d:                  # случай, когда первое число односоставное\n",
    "            if l[1] == d[0]:\n",
    "                r = n1+n2\n",
    "            elif l[1] == d[1]:\n",
    "                r = n1-n2\n",
    "            else:\n",
    "                r = n1*n2\n",
    "        elif l[2] in d:                # случай, когда первое число двусоставное (длина второго числа не влияет на ситуацию)\n",
    "            if l[2] == d[0]:\n",
    "                r = n1+n2\n",
    "            elif l[2] == d[1]:\n",
    "                r = n1-n2\n",
    "            else:\n",
    "                r = n1*n2\n",
    "        if r >= 0:                     # если ответ положительный \n",
    "            r1 = str(r)                \n",
    "        else:                          # если ответ отрицательный \n",
    "            r1 = str(r).replace('-','')  \n",
    "        rez = []\n",
    "        \n",
    "    # Выводим результат в виде слов    \n",
    "    if len(r1) == 1:                \n",
    "        rez.append(a[int(r1[-1])])\n",
    "    if len(r1) >= 2:                \n",
    "        if 10 < int(r1[-2:]) < 20:\n",
    "            rez.append(b[int(r1[-1])-1])\n",
    "        elif int(r1[-2:]) % 10 == 0:\n",
    "            rez.append(c[int(r1[-2])-1])\n",
    "        else:\n",
    "            rez.append(a[int(r1[-1])])\n",
    "            rez.append(c[int(r1[-2])-1])\n",
    "    if len(r1) >= 3:\n",
    "        rez.append(e[int(r1[-3])-1])\n",
    "    if len(r1) >= 4:\n",
    "        if int(r1[-4]) == 1:\n",
    "            rez.append('тысяча')\n",
    "        elif 1 <= int(r1[-4]) <= 4:\n",
    "            rez.append('тысячи')\n",
    "        else:\n",
    "            rez.append('тысяч')\n",
    "        rez.append(f[int(r1[-4])-1])\n",
    "    if r < 0:\n",
    "        rez.append('минус')\n",
    "    rez.reverse()\n",
    "            \n",
    "    print(*rez)\n",
    "            \n",
    "calc(l)"
   ]
  },
  {
   "cell_type": "code",
   "execution_count": null,
   "id": "6900d94d",
   "metadata": {},
   "outputs": [],
   "source": []
  }
 ],
 "metadata": {
  "kernelspec": {
   "display_name": "Python 3 (ipykernel)",
   "language": "python",
   "name": "python3"
  },
  "language_info": {
   "codemirror_mode": {
    "name": "ipython",
    "version": 3
   },
   "file_extension": ".py",
   "mimetype": "text/x-python",
   "name": "python",
   "nbconvert_exporter": "python",
   "pygments_lexer": "ipython3",
   "version": "3.11.4"
  }
 },
 "nbformat": 4,
 "nbformat_minor": 5
}
