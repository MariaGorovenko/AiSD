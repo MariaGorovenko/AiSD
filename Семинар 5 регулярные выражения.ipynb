{
 "cells": [
  {
   "cell_type": "code",
   "execution_count": 11,
   "id": "b697277f",
   "metadata": {},
   "outputs": [],
   "source": [
    "import re"
   ]
  },
  {
   "cell_type": "code",
   "execution_count": null,
   "id": "cd9899cc",
   "metadata": {},
   "outputs": [],
   "source": [
    "# 1)\n",
    "s = 'aaa--bbb==ccc__ddd'\n",
    "print(re.split('--|==|__', s))"
   ]
  },
  {
   "cell_type": "code",
   "execution_count": 23,
   "id": "1a32acf5",
   "metadata": {},
   "outputs": [
    {
     "name": "stdout",
     "output_type": "stream",
     "text": [
      "Enter the string: Yesterday, All my troubles seemed so far away\n",
      "['Yesterday']\n"
     ]
    }
   ],
   "source": [
    "# 2)\n",
    "s = input('Enter the string: ')\n",
    "print(re.findall(r'^\\w+', s))"
   ]
  },
  {
   "cell_type": "code",
   "execution_count": 79,
   "id": "843e0453",
   "metadata": {},
   "outputs": [
    {
     "name": "stdout",
     "output_type": "stream",
     "text": [
      "Enter the string: Yesterday, All my troubles seemed so far away\n",
      "['away']\n"
     ]
    }
   ],
   "source": [
    "# 3)\n",
    "s = input('Enter the string: ')\n",
    "print(re.findall(r'\\w+$', s))"
   ]
  },
  {
   "cell_type": "code",
   "execution_count": 31,
   "id": "4fe037f1",
   "metadata": {},
   "outputs": [
    {
     "name": "stdout",
     "output_type": "stream",
     "text": [
      "['All', 'away', 'If', 'all', 'in', 'it']\n"
     ]
    }
   ],
   "source": [
    "# 4)\n",
    "s = '''Yesterday, All my troubles seemed so far away\n",
    "But tomorrow will be better than yerterday\n",
    "If we all believe in it'''\n",
    "print(re.findall(r'\\b[euioaEUIOA]\\w+', s))"
   ]
  },
  {
   "cell_type": "code",
   "execution_count": 32,
   "id": "33e2edd6",
   "metadata": {},
   "outputs": [
    {
     "name": "stdout",
     "output_type": "stream",
     "text": [
      "['Yesterday']\n",
      "['But']\n",
      "['If']\n"
     ]
    }
   ],
   "source": [
    "# 5)\n",
    "s = '''Yesterday All my troubles seemed so far away\n",
    "But tomorrow will be better than yerterday\n",
    "If we all believe in it'''\n",
    "s1 = re.split('\\n', s)\n",
    "for i in range(0, len(s1)):\n",
    "    print(re.findall(r'^\\w+', s1[i]))"
   ]
  },
  {
   "cell_type": "code",
   "execution_count": 40,
   "id": "5e792e68",
   "metadata": {},
   "outputs": [
    {
     "name": "stdout",
     "output_type": "stream",
     "text": [
      "Enter the E-mail: university.@edu.fa.ru\n",
      "E-mail is correct\n"
     ]
    }
   ],
   "source": [
    "# 6)\n",
    "s = input('Enter the E-mail: ')\n",
    "if re.findall(r'\\S*@\\w+.\\S*', s) != []:\n",
    "    print('E-mail is correct')\n",
    "else:\n",
    "    print('E-mail is not correct')"
   ]
  },
  {
   "cell_type": "code",
   "execution_count": 46,
   "id": "f0f7c68f",
   "metadata": {},
   "outputs": [
    {
     "name": "stdout",
     "output_type": "stream",
     "text": [
      "['edu.fa.ru', 'mail.ru', 'gmail.com', 'fa.ru']\n"
     ]
    }
   ],
   "source": [
    "# 7)\n",
    "s = '222222@edu.fa.ru Ivanov_Ivan_ivanovich Ivanov.II@mail.ru Petrov123@gmail.com university@fa.ru '\n",
    "print(re.findall(r'@(\\S*)', s))"
   ]
  },
  {
   "cell_type": "code",
   "execution_count": 51,
   "id": "d2a3e7ec",
   "metadata": {},
   "outputs": [
    {
     "name": "stdout",
     "output_type": "stream",
     "text": [
      "['fa.ru', 'ru', 'com', 'fa.ru']\n"
     ]
    }
   ],
   "source": [
    "s = '222222@edu.fa.ru Ivanov_Ivan_ivanovich Ivanov.II@mail.ru Petrov123@gmail.com university@edu.fa.ru '\n",
    "print(re.findall(r'@\\w+.(\\S+)', s))"
   ]
  },
  {
   "cell_type": "code",
   "execution_count": null,
   "id": "ebcd914b",
   "metadata": {},
   "outputs": [],
   "source": [
    "# 8)\n",
    "s = input('Enter the phone number: ')\n",
    "s1 = re.sub(r'[) (-]', '', s)\n",
    "if ')' and '(' not in s:\n",
    "    if len(s1) == 12:\n",
    "        print('Number is correct')\n",
    "    else:\n",
    "        print('Number is not correct')\n",
    "else:\n",
    "    if len(s1) == 14:\n",
    "        print('Number is correct')\n",
    "    else:\n",
    "        print('Number is not correct')"
   ]
  }
 ],
 "metadata": {
  "kernelspec": {
   "display_name": "Python 3 (ipykernel)",
   "language": "python",
   "name": "python3"
  },
  "language_info": {
   "codemirror_mode": {
    "name": "ipython",
    "version": 3
   },
   "file_extension": ".py",
   "mimetype": "text/x-python",
   "name": "python",
   "nbconvert_exporter": "python",
   "pygments_lexer": "ipython3",
   "version": "3.11.4"
  }
 },
 "nbformat": 4,
 "nbformat_minor": 5
}
