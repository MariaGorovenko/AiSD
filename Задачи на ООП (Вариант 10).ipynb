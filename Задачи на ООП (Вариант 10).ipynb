{
 "cells": [
  {
   "cell_type": "markdown",
   "id": "17e0cdbf",
   "metadata": {},
   "source": [
    "### Вариант 10"
   ]
  },
  {
   "cell_type": "markdown",
   "id": "469df0fe",
   "metadata": {},
   "source": [
    "Задание 25\n",
    "\n",
    "Класс – параллелепипед. Методы – расчет площади поверхности и объема параллелепипеда. Поля – ребра  𝑎 ,  𝑏 ,  𝑐 , площадь и объем."
   ]
  },
  {
   "cell_type": "code",
   "execution_count": 4,
   "id": "58de72d3",
   "metadata": {},
   "outputs": [
    {
     "name": "stdout",
     "output_type": "stream",
     "text": [
      "Площадь параллелепипеда: 38\n",
      "Объем параллелепипеда: 12\n"
     ]
    }
   ],
   "source": [
    "class Parallelepiped:\n",
    "    # Поля класса\n",
    "    rebro_a = 0\n",
    "    rebro_b = 0\n",
    "    rebro_c = 0\n",
    "\n",
    "    def __init__(self, a=0, b=0, c=0):\n",
    "        # Обращение к полям класса через self или имя класса\n",
    "        self.rebro_a = a\n",
    "        self.rebro_b = b\n",
    "        Parallelepiped.rebro_c = c\n",
    "\n",
    "    def square(self):\n",
    "        return 2 * (self.rebro_a * self.rebro_b + self.rebro_b * Parallelepiped.rebro_c + self.rebro_a * Parallelepiped.rebro_c)\n",
    "\n",
    "    def volume(self):\n",
    "        return self.rebro_a * self.rebro_b * Parallelepiped.rebro_c\n",
    "\n",
    "pl = Parallelepiped(1, 3, 4)\n",
    "print(\"Площадь параллелепипеда:\", pl.square())\n",
    "print(\"Объем параллелепипеда:\", pl.volume())"
   ]
  },
  {
   "cell_type": "markdown",
   "id": "9d961dec",
   "metadata": {},
   "source": [
    "Задание 26\n",
    "\n",
    "Опишите класс Account. Для банковского счета задаются фамилия владельца, номер счёта, процент начисления за год и сумма в рублях. Включите в описание класса методы: пополнения счёта, снятия денег со счёта, перевода суммы в доллары и в евро, а также свойство, позволяющее начислить процент за заданное количество месяцев."
   ]
  },
  {
   "cell_type": "code",
   "execution_count": 5,
   "id": "a15a1209",
   "metadata": {},
   "outputs": [],
   "source": [
    "class Account():\n",
    "    def __init__(self, surname, ac_num, per, balance):\n",
    "        self.surname = surname\n",
    "        self.ac_num = ac_num\n",
    "        self.per = per\n",
    "        self.balance = balance\n",
    "        \n",
    "    def refill(self, val):\n",
    "        self.balance += val\n",
    "        return f'Ваш счёт пополнен на {val} руб.'\n",
    "    \n",
    "    def withdraw(self, val):\n",
    "        self.balance -= val\n",
    "        return f'Вы сняли со счёта {val} руб.'\n",
    "    \n",
    "    def to_doll(self):\n",
    "        return f'Ваш счёт в долларах составляет {self.balance * 0.011}'\n",
    "    \n",
    "    def to_euro(self):\n",
    "        return f'Ваш счёт в евро составляет {self.balance * 0.01}'\n",
    "    \n",
    "    def accrual(self, n):\n",
    "        print(f'Вам начислен процент в размере {(self.per/12)*n * self.balance / 100}')\n",
    "        self.balance += (self.per/12)*n * self.balance / 100\n",
    "        \n",
    "    def view(self):\n",
    "        return f'Ваш счёт {self.balance}'"
   ]
  },
  {
   "cell_type": "code",
   "execution_count": 6,
   "id": "e6ab2b0a",
   "metadata": {},
   "outputs": [],
   "source": [
    "a1 = Account('Иванов', 44123, 12, 1000)"
   ]
  },
  {
   "cell_type": "code",
   "execution_count": 7,
   "id": "3598c4cc",
   "metadata": {},
   "outputs": [
    {
     "data": {
      "text/plain": [
       "('Ваш счёт в долларах составляет 11.0', 'Ваш счёт в евро составляет 10.0')"
      ]
     },
     "execution_count": 7,
     "metadata": {},
     "output_type": "execute_result"
    }
   ],
   "source": [
    "a1.to_doll(), a1.to_euro()"
   ]
  },
  {
   "cell_type": "code",
   "execution_count": 8,
   "id": "0d419bea",
   "metadata": {},
   "outputs": [
    {
     "name": "stdout",
     "output_type": "stream",
     "text": [
      "Вам начислен процент в размере 60.0\n"
     ]
    }
   ],
   "source": [
    "a1.accrual(6)"
   ]
  },
  {
   "cell_type": "code",
   "execution_count": 9,
   "id": "a022cfe4",
   "metadata": {},
   "outputs": [
    {
     "data": {
      "text/plain": [
       "'Вы сняли со счёта 60 руб.'"
      ]
     },
     "execution_count": 9,
     "metadata": {},
     "output_type": "execute_result"
    }
   ],
   "source": [
    "a1.withdraw(60)"
   ]
  },
  {
   "cell_type": "code",
   "execution_count": 10,
   "id": "dc3d0273",
   "metadata": {},
   "outputs": [
    {
     "data": {
      "text/plain": [
       "'Ваш счёт пополнен на 60 руб.'"
      ]
     },
     "execution_count": 10,
     "metadata": {},
     "output_type": "execute_result"
    }
   ],
   "source": [
    "a1.refill(60)"
   ]
  },
  {
   "cell_type": "code",
   "execution_count": 11,
   "id": "d69fe6b2",
   "metadata": {},
   "outputs": [
    {
     "data": {
      "text/plain": [
       "'Ваш счёт 1060.0'"
      ]
     },
     "execution_count": 11,
     "metadata": {},
     "output_type": "execute_result"
    }
   ],
   "source": [
    "a1.view()"
   ]
  },
  {
   "cell_type": "code",
   "execution_count": null,
   "id": "4c005143",
   "metadata": {},
   "outputs": [],
   "source": [
    "#def __repr__() \n",
    "#def __str__()"
   ]
  },
  {
   "cell_type": "markdown",
   "id": "af8cd46e",
   "metadata": {},
   "source": [
    "### Разбор задач из учебника"
   ]
  },
  {
   "cell_type": "markdown",
   "id": "8e972be0",
   "metadata": {},
   "source": [
    "Задание 27\n",
    "\n",
    "Создайте класс ИГРУШКА с методами, позволяющими вывести на экран информацию о товаре, а также определить соответствие игрушки критерию поиска. Создайте дочерние классы КУБИК (цвет, цена, материал, размер ребра), МЯЧ (цена, цвет, диаметр, материал), МАШИНКА (название, цена, производитель, цвет) со своими методами вывода информации на экран и определения соответствия заданному цвету. Создайте список из  𝑛  игрушек, выведите полную информацию из базы на экран, а также организуйте поиск игрушек заданного цвета."
   ]
  },
  {
   "cell_type": "code",
   "execution_count": 1,
   "id": "29400e73",
   "metadata": {},
   "outputs": [],
   "source": [
    "class Toy():\n",
    "    def __init__(self, name, color, price, material):\n",
    "        self.name = name\n",
    "        self.color = color\n",
    "        self.price = price\n",
    "        self.material = material        \n",
    "        \n",
    "    def show_info(self):\n",
    "        print(f'Игрушка: {self.name}, Цвет: {self.color}, Цена: {self.price}, Материал: {self.material}')\n",
    "        \n",
    "    def check_color(self, target_color):\n",
    "        return self.color == target_color\n",
    "    \n",
    "    \n",
    "class Cube(Toy):\n",
    "    def __init__(self, name, color, price, material, size):\n",
    "        super().__init__(name, color, price, material)\n",
    "        self.size = size\n",
    "        \n",
    "    def show_cube_info(self):\n",
    "        print(f'Размер ребра кубика: {self.size}')\n",
    "        \n",
    "class Ball(Toy):\n",
    "    def __init__(self, name, color, price, material, diameter):\n",
    "        super().__init__(name, color, price, material)\n",
    "        self.diameter = diameter\n",
    "        \n",
    "    def show_ball_info(self):\n",
    "        print(f'Диаметр мяча: {self.diameter}')\n",
    "        \n",
    "class Car(Toy):\n",
    "    def __init__(self, name, color, price, material, manufacturer):\n",
    "        super().__init__(name, color, price, material)\n",
    "        self.manufacturer = manufacturer\n",
    "        \n",
    "    def show_car_info(self):\n",
    "        print(f'Производитель машинки: {self.manufacturer}')"
   ]
  },
  {
   "cell_type": "code",
   "execution_count": 3,
   "id": "9b0800d5",
   "metadata": {},
   "outputs": [
    {
     "name": "stdout",
     "output_type": "stream",
     "text": [
      "Игрушка: Кубик 1, Цвет: Красный, Цена: 100, Материал: Пластмасса\n",
      "Размер ребра кубика: 5\n",
      "True\n",
      "Игрушка: Мяч 1, Цвет: Синий, Цена: 100, Материал: Пластмасса\n",
      "Диаметр мяча: 20\n",
      "False\n",
      "Игрушка: Машинка 1, Цвет: Зеленый, Цена: 100, Материал: Пластмасса\n",
      "Производитель машинки: Завод\n",
      "False\n",
      "Игрушка: Кубик 2, Цвет: Красный, Цена: 100, Материал: Пластмасса\n",
      "Размер ребра кубика: 6\n",
      "True\n",
      "Игрушка: Мяч 2, Цвет: Красный, Цена: 100, Материал: Пластмасса\n",
      "Диаметр мяча: 10\n",
      "True\n",
      "Игрушка: Машинка 2, Цвет: Синий, Цена: 100, Материал: Пластмасса\n",
      "Производитель машинки: Завод\n",
      "False\n"
     ]
    }
   ],
   "source": [
    "toys = [\n",
    "    Cube('Кубик 1', 'Красный', 100, 'Пластмасса', 5),\n",
    "    Ball('Мяч 1', 'Синий', 100, 'Пластмасса', 20),\n",
    "    Car('Машинка 1', 'Зеленый', 100, 'Пластмасса', 'Завод'),\n",
    "    Cube('Кубик 2', 'Красный', 100, 'Пластмасса', 6),\n",
    "    Ball('Мяч 2', 'Красный', 100, 'Пластмасса', 10),\n",
    "    Car('Машинка 2', 'Синий', 100, 'Пластмасса', 'Завод')]\n",
    "for i in toys:\n",
    "    i.show_info()\n",
    "    if isinstance(i, Cube):\n",
    "        i.show_cube_info()\n",
    "    elif isinstance(i, Ball):\n",
    "        i.show_ball_info()\n",
    "    elif isinstance(i, Car):\n",
    "        i.show_car_info()\n",
    "    print(i.check_color('Красный'))"
   ]
  },
  {
   "cell_type": "markdown",
   "id": "597539c9",
   "metadata": {},
   "source": [
    "1.Вы—бизнесмен.  На  нескольких  планетах  галактики  были  обнаружены  залежианобтанимуа. До планет разное расстояние в световых годах и разная цена разработкиод-ного килограмма минерала в условных единицах. Каждый световой год путиобходится в5.000.000 у.е. Корабль может поднять на борт до 100.000 т. груза. Нужносоздать коло-нию, завезти оборудование и т.д. На некоторых из этих планетсуществуют враждебные племена аборигенов и хищные животные. Для защитырабочих требуется содержать вое-низированные подразделения. Написать объектно-ориентированную программу с исполь-зованием двух классов, которая определитнаиболее выгодный проект.Класс может со-держать поля: название планеты, расстояние до планеты в световых годах, стоимость раз-работки одного килограмма минерала в у.е.словарь дополнительных расходов, котором указывается название дополнительных расходов и затраты на его обслуживание; и мето-ды: заполнение полей, нахождение расходов на добычу и доставку, заполнение  словарядополнительных расходов, расчет общей прибыли, вывод результатов на экран"
   ]
  },
  {
   "cell_type": "code",
   "execution_count": 1,
   "id": "5ced07df",
   "metadata": {},
   "outputs": [],
   "source": [
    "# ??????????\n",
    "class Planet():\n",
    "    y1c = 5000000 # стоимость одного светового года в пути\n",
    "    sbmax = 100000000 # грузоподъемность корабля\n",
    "    \n",
    "    def __init__(self, name, rang, co, mar):\n",
    "        self.name = name # название планеты\n",
    "        self.rang = rang # расстояние до планеты\n",
    "        self.co = co # стоимость разработки 1 кг минерала\n",
    "        self.mar = mar # стоимость продажи 1 кг минерала\n",
    "        self.costs = {} # словарь доп издержек для работы на планете\n",
    "        \n",
    "    def addcost(self, *val): # добавление доп издержек в словарь self.costs\n",
    "        for i in val:\n",
    "            self.costs[i[0]] = i[1]\n",
    "            \n",
    "    def costsf(self): # стоимость доставки минералов туда-обратно и стоимость реализации полностью загруженного корабля\n",
    "        s = Planet.y1c*2*self.rang + Planet.sbmax*self.co\n",
    "        if bool(self.costs) == True: # если словарь не пустой, то также учитываются доп издержки\n",
    "            for i in self.costs.values():\n",
    "                s += i\n",
    "        return s\n",
    "    \n",
    "    def income(self): # стоимость от продажи полного корабля минералов\n",
    "        return self.mar * Planet.sbmax\n",
    "    \n",
    "    def profit(self): # прибыль (доходы - расходы)\n",
    "        return self.income() - self.costsf()\n",
    "    \n",
    "    def __str__(self):\n",
    "        print(f'{\"Информация о планете\":>25} {self.name:<}')\n",
    "        return f'{\"Расходы:\":>25} {self.costsf():<}\\n \\\n",
    "        {\"Доходы:\":>25} {self.income():<} \\n {\"Прибыль:\":>25} {self.profit():<}'  "
   ]
  },
  {
   "cell_type": "code",
   "execution_count": 2,
   "id": "b4a581d4",
   "metadata": {},
   "outputs": [
    {
     "name": "stdout",
     "output_type": "stream",
     "text": [
      "     Информация о планете Марс\n",
      "                 Расходы: 2500000000\n",
      "                           Доходы: 2500000000 \n",
      "                  Прибыль: 0\n"
     ]
    }
   ],
   "source": [
    "p1 = Planet('Марс', 100, 10, 25)\n",
    "p1.addcost(('Охрана',200000000), ('Оборудование', 300000000))\n",
    "print(p1)"
   ]
  },
  {
   "cell_type": "code",
   "execution_count": 3,
   "id": "a0402490",
   "metadata": {},
   "outputs": [
    {
     "name": "stdout",
     "output_type": "stream",
     "text": [
      "     Информация о планете Луна\n",
      "                 Расходы: 2180000000\n",
      "                           Доходы: 1500000000 \n",
      "                  Прибыль: -680000000\n"
     ]
    }
   ],
   "source": [
    "p2 = Planet('Луна', 25, 10, 15)\n",
    "p2.addcost(('Охрана',20000000), ('Оборудование', 10000000), ('Налог на использование спутника Земли', 900000000))\n",
    "print(p2)"
   ]
  },
  {
   "cell_type": "markdown",
   "id": "15f10d6c",
   "metadata": {},
   "source": [
    "1152.Вы—  HR-менеджер крупной компании. В связи с изменением политики компаниипоявились  новые  вакантные  места, и  ряд  должностей  перестал  быть  необходимым. Вамнужно  пересмотреть  существующие  кадры,  при  необходимости  провести  обучение ипереподготовку и (или) нанять новых работников. Каждая вакантная должность связана срядом компетенций, которыми должен обладать претендент (или, если он член компа-нии, должен их получить в ходе обучения). У вас есть список резюме претендентов. Напи-сать объектно-ориентированную программу с использованием двух классов, которая позволит  выбрать  наиболее  достойных.  Первый  класс  может  содержать  поля:  название вакантной  должности, критерии  отбора  (массив,  состоящий  из  элементов:  необходимое качество, значимость по 10 бальной шкале, возможность коррекции по 10 бальной шкале, допустимый порог); методы: заполнение полей, вывод результатов на экран. Второй класс может содержать поля: ФИО претендента, член компании или нет,  уровень готовности кработе  (массив,  состоящий  из  элементов:  необходимое  качество,  балл  по  10  бальной шкале);  методы:  заполнение  полей:  определение  уровня  готовности  претендента  (нахо-дится по формуле: сумма произведений набранных баллов по каждому критерию на их вес), список необходимых качеств, которые нужно «подтянуть»с указаниемкритичности каждого из них, вывод результатов на экран.\n"
   ]
  },
  {
   "cell_type": "code",
   "execution_count": null,
   "id": "f236738e",
   "metadata": {},
   "outputs": [],
   "source": []
  },
  {
   "cell_type": "markdown",
   "id": "40f6ccce",
   "metadata": {},
   "source": [
    "1173.Магазин  компьютерной  техники  покупает  по  оптовым  ценам  компьютерные  ком-плектующие.  Техническая  служба  магазина  собирает  под  заказ  из  них  компьютеры. Общая цена компьютера складывается из цены комплектующих, наценки и стоимости работ. Наценка составляет 20% на комплектующие дешевле и 15% дороже 2000 руб. Если суммарная цена набора составляет более 50000 руб., то стоимость сборки не включается вобщую цену товара. В противном случае стоимостьсборки составляет 5% от общей це-ны набора. Создать следующий класс c рекомендуемыми полями: номер заказа, список комплектующих компьютера с указанием их названия и оптовой цены; а также методы: расчет цены компьютера, вывод результатов на экран.\n"
   ]
  },
  {
   "cell_type": "code",
   "execution_count": null,
   "id": "38317378",
   "metadata": {},
   "outputs": [],
   "source": []
  }
 ],
 "metadata": {
  "kernelspec": {
   "display_name": "Python 3 (ipykernel)",
   "language": "python",
   "name": "python3"
  },
  "language_info": {
   "codemirror_mode": {
    "name": "ipython",
    "version": 3
   },
   "file_extension": ".py",
   "mimetype": "text/x-python",
   "name": "python",
   "nbconvert_exporter": "python",
   "pygments_lexer": "ipython3",
   "version": "3.11.4"
  }
 },
 "nbformat": 4,
 "nbformat_minor": 5
}
