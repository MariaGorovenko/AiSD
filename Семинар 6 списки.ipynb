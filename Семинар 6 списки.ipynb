{
 "cells": [
  {
   "cell_type": "code",
   "execution_count": 148,
   "id": "b4703883",
   "metadata": {},
   "outputs": [
    {
     "name": "stdout",
     "output_type": "stream",
     "text": [
      "[31, 24, 17] [31, 24, 17] [31, 24, 17]\n",
      "[[31, 24, 17], [31, 24, 17], [31, 24, 17]]\n"
     ]
    }
   ],
   "source": [
    "# 1)\n",
    "\n",
    "import copy\n",
    "lst = [31,24,17]          \n",
    "lst1 = list(lst)          # Первый способ\n",
    "lst2 = copy.copy(lst)     # Второй способ\n",
    "lst3 = list()\n",
    "for i in range(len(lst)): # Третий способ\n",
    "    lst3.append(lst[i])\n",
    "print(lst1, lst2, lst3)\n",
    "lst4 = list()\n",
    "lst4.append(lst1)\n",
    "lst4.append(lst2)\n",
    "lst4.append(lst3)\n",
    "print(lst4)"
   ]
  },
  {
   "cell_type": "code",
   "execution_count": 151,
   "id": "b8dbf388",
   "metadata": {},
   "outputs": [
    {
     "name": "stdout",
     "output_type": "stream",
     "text": [
      "Enter the string: Hello ! 111\n"
     ]
    },
    {
     "data": {
      "text/plain": [
       "['H', 'e', 'l', 'l', 'o', ' ', '!', ' ', '1', '1', '1']"
      ]
     },
     "execution_count": 151,
     "metadata": {},
     "output_type": "execute_result"
    }
   ],
   "source": [
    "# 2.1)\n",
    "\n",
    "lst5 = list(input('Enter the string: '))\n",
    "lst5"
   ]
  },
  {
   "cell_type": "code",
   "execution_count": 152,
   "id": "41c9f304",
   "metadata": {},
   "outputs": [
    {
     "name": "stdout",
     "output_type": "stream",
     "text": [
      "Enter the string: Yesterday, All my troubles seemed so far away 123\n"
     ]
    },
    {
     "data": {
      "text/plain": [
       "['Yesterday,', 'All ', 'my ', 'troubles ', 'seemed ', 'so ', 'far ', 'away ']"
      ]
     },
     "execution_count": 152,
     "metadata": {},
     "output_type": "execute_result"
    }
   ],
   "source": [
    "# 2.2\n",
    "\n",
    "import re\n",
    "s = input('Enter the string: ')\n",
    "lst6 = list()\n",
    "lst6.extend(re.findall(r'\\w+[^\\d+]', s))\n",
    "lst6"
   ]
  },
  {
   "cell_type": "code",
   "execution_count": 153,
   "id": "79c660a0",
   "metadata": {},
   "outputs": [
    {
     "name": "stdout",
     "output_type": "stream",
     "text": [
      "Enter the string: Hello 23 world1!\n"
     ]
    },
    {
     "data": {
      "text/plain": [
       "['2', '3', '1']"
      ]
     },
     "execution_count": 153,
     "metadata": {},
     "output_type": "execute_result"
    }
   ],
   "source": [
    "# 2.3)\n",
    "\n",
    "import re\n",
    "s = input('Enter the string: ')\n",
    "lst7 = list()\n",
    "lst7.extend(re.findall(r'\\d', s))\n",
    "lst7"
   ]
  },
  {
   "cell_type": "code",
   "execution_count": 155,
   "id": "9ee58f41",
   "metadata": {},
   "outputs": [
    {
     "name": "stdout",
     "output_type": "stream",
     "text": [
      "Enter words to create an array: input string repeat 3\n",
      "['input', 'string', 'repeat', '3']\n",
      "['input', 'string', 'input', 'string', 'input', 'string', 'repeat', '3']\n"
     ]
    }
   ],
   "source": [
    "# 3) \n",
    "\n",
    "import re\n",
    "s = input('Enter words to create an array: ')\n",
    "lst8 = list()\n",
    "lst9 = list()\n",
    "lst8.extend(re.findall(r'\\S+', s))\n",
    "print(lst8)\n",
    "if 'repeat' in lst8:\n",
    "    lst9 = lst8[:-2] * int(lst8[-1]) + lst8[-2:]\n",
    "    print(lst9)\n",
    "else:\n",
    "    print(lst8)"
   ]
  },
  {
   "cell_type": "code",
   "execution_count": 157,
   "id": "f217b995",
   "metadata": {},
   "outputs": [
    {
     "name": "stdout",
     "output_type": "stream",
     "text": [
      "Введите строку1 : Hello\n",
      "Введите строку2 : mum\n"
     ]
    },
    {
     "data": {
      "text/plain": [
       "['Hello', 'mum', \"Строка 'первая' идет ПОСЛЕ строки 'вторая'\"]"
      ]
     },
     "execution_count": 157,
     "metadata": {},
     "output_type": "execute_result"
    }
   ],
   "source": [
    "# 4) \n",
    "\n",
    "s1 = input('Введите строку1 : ')\n",
    "s2 = input('Введите строку2 : ')\n",
    "lst10 = list()\n",
    "lst10.append(s1)\n",
    "lst10.append(s2)\n",
    "if len(s1) < len(s2):\n",
    "    lst10.append(f'Длины строк: {len(s1)} и {len(s2)}')\n",
    "else:\n",
    "    lst10.append(\"Строка 'первая' идет ПОСЛЕ строки 'вторая'\")\n",
    "lst10"
   ]
  },
  {
   "cell_type": "code",
   "execution_count": 158,
   "id": "8a399afc",
   "metadata": {},
   "outputs": [
    {
     "name": "stdout",
     "output_type": "stream",
     "text": [
      "Введите число1: fg\n",
      "invalid literal for int() with base 10: 'fg'\n",
      "Введите число1: 3\n",
      "Введите число2: 5\n",
      "[1, 2, 3, 1, 2, 3, 1, 2, 3, 1, 2, 3, 1, 2, 3]\n"
     ]
    }
   ],
   "source": [
    "# 5.1)\n",
    "\n",
    "while True:\n",
    "    try:\n",
    "        max_val = int(input('Введите число1: '))\n",
    "        repeat = int(input('Введите число2: '))\n",
    "        lst11 = list(range(1, max_val + 1)) * repeat\n",
    "        print(lst11)\n",
    "        break\n",
    "    except ValueError as err:\n",
    "        print(err)\n",
    "        continue"
   ]
  },
  {
   "cell_type": "code",
   "execution_count": null,
   "id": "042fe0cd",
   "metadata": {},
   "outputs": [],
   "source": [
    "# *5.2)\n",
    "\n",
    "while True:\n",
    "    try:\n",
    "        max_val = 10\n",
    "        repeat = int(input('Введите число: '))\n",
    "        lst11 = list(range(1, max_val + 1)) * repeat\n",
    "        print(lst11)\n",
    "        break\n",
    "    except ValueError as err:\n",
    "        print(err)\n",
    "        continue\n",
    "lst_copy = list(lst11)\n"
   ]
  },
  {
   "cell_type": "code",
   "execution_count": 75,
   "id": "56dcb982",
   "metadata": {},
   "outputs": [
    {
     "name": "stdout",
     "output_type": "stream",
     "text": [
      "Enter the string: test_Stringss\n"
     ]
    },
    {
     "data": {
      "text/plain": [
       "['t', 'e', 'eet', 't', '_', '__t', 't', 'r', 'i', 'n', 'g', 'ggs', 's']"
      ]
     },
     "execution_count": 75,
     "metadata": {},
     "output_type": "execute_result"
    }
   ],
   "source": [
    "# 6)\n",
    "\n",
    "s = input('Enter the string: ')\n",
    "lst12 = list(s)\n",
    "for i in range(1, len(lst12)-1):\n",
    "    if lst12[i] == 's' or lst12[i] == 'S':\n",
    "        lst12[i] = lst12[i-1]*2 + lst12[i+1]\n",
    "lst12"
   ]
  },
  {
   "cell_type": "code",
   "execution_count": null,
   "id": "62971cee",
   "metadata": {},
   "outputs": [
    {
     "name": "stdout",
     "output_type": "stream",
     "text": [
      "1\n",
      "[1]\n",
      "2\n",
      "[1, 2]\n",
      "3.4\n",
      "[1, 2, 4]\n"
     ]
    }
   ],
   "source": [
    "# 7)\n",
    "\n",
    "import math\n",
    "lst13 = list()\n",
    "while True:\n",
    "    a = input()\n",
    "    try:\n",
    "        float(a)\n",
    "        lst13.append(math.ceil(float(a)))\n",
    "    except ValueError:\n",
    "        try:\n",
    "            int(a)\n",
    "            lst13.append(int(a))\n",
    "        except ValueError:\n",
    "            if a == 'True':\n",
    "                lst13.append(bool(a))\n",
    "            elif a == 'False':\n",
    "                lst13.append(False)\n",
    "            else:\n",
    "                lst13.append(a)\n",
    "    print(lst13)\n",
    "    continue"
   ]
  },
  {
   "cell_type": "code",
   "execution_count": null,
   "id": "af450a40",
   "metadata": {},
   "outputs": [],
   "source": [
    "# *8)\n",
    "\n",
    "import re\n",
    "s1 = input('Enter the string1 : ')\n",
    "s2 = input('Enter the string2 : ')\n",
    "lst14 = []\n",
    "lst15 = []\n",
    "lst16 = list()\n",
    "lst14.extend(re.findall(r'\\w+', s1))\n",
    "lst15.extend(re.findall(r'\\w+', s2))\n",
    "for i in range(0, len(lst14)+len(lst15)-1, 2):\n",
    "    for a in range(len(lst14)):\n",
    "        lst16[i] = lst14[a]\n",
    "        for b in range(len(lst15)):\n",
    "            lst16[i+1] = lst15[b]\n",
    "lst16"
   ]
  },
  {
   "cell_type": "code",
   "execution_count": 118,
   "id": "324c246d",
   "metadata": {},
   "outputs": [
    {
     "name": "stdout",
     "output_type": "stream",
     "text": [
      "Enter the string1 : один два три\n",
      "Enter the string2 : альфа бетта гамма\n",
      "[('один', 'альфа'), ('два', 'бетта'), ('три', 'гамма')]\n"
     ]
    }
   ],
   "source": [
    "# 9)\n",
    "\n",
    "import re\n",
    "s1 = input('Enter the string1 : ')\n",
    "s2 = input('Enter the string2 : ')\n",
    "lst14 = []\n",
    "lst15 = []\n",
    "lst14.extend(re.findall(r'\\w+', s1))\n",
    "lst15.extend(re.findall(r'\\w+', s2))\n",
    "zip_lst = zip(lst14, lst15)\n",
    "print(list(zip_lst))"
   ]
  },
  {
   "cell_type": "code",
   "execution_count": 159,
   "id": "997829e7",
   "metadata": {},
   "outputs": [
    {
     "name": "stdout",
     "output_type": "stream",
     "text": [
      "Enter the string: один два три четыре пять шесть семь\n",
      "Enter the number: 4\n"
     ]
    },
    {
     "data": {
      "text/plain": [
       "['пять', 'шесть', 'семь', 'один', 'два', 'три', 'четыре']"
      ]
     },
     "execution_count": 159,
     "metadata": {},
     "output_type": "execute_result"
    }
   ],
   "source": [
    "# 10)\n",
    "\n",
    "import re\n",
    "a = input('Enter the string: ')\n",
    "b = input('Enter the number: ')\n",
    "lst17 = list()\n",
    "lst18 = list()\n",
    "lst17.extend(re.findall(r'\\w+', a))\n",
    "lst18 = lst17[int(b):] + lst17[:int(b)]\n",
    "lst18"
   ]
  },
  {
   "cell_type": "code",
   "execution_count": 138,
   "id": "a2690f57",
   "metadata": {},
   "outputs": [
    {
     "data": {
      "text/plain": [
       "[2, 2, 2, 2]"
      ]
     },
     "execution_count": 138,
     "metadata": {},
     "output_type": "execute_result"
    }
   ],
   "source": [
    "# 11)\n",
    "\n",
    "# 2, 3, 5, 7, 11, 13, 17, 19\n",
    "lst19 = [3,6,7,12]\n",
    "#a = input('Enter the number: ')\n",
    "#while True:\n",
    "#    if a == 'stop':\n",
    "#        break\n",
    "#    try:\n",
    "#        lst19.append(int(a))\n",
    "#    except ValueError:\n",
    "#        print('Incorrect')\n",
    "#        continue\n",
    "    \n",
    "n = 0\n",
    "def if_(n,b):\n",
    "    for i in range(len(lst19)):\n",
    "        if n == 0:\n",
    "            lst19[i] = b\n",
    "        else:\n",
    "            lst19.insert(i, b)\n",
    "for i in range(len(lst19)):\n",
    "    if lst19[i] % 2 == 0 and lst19[i] != 2:\n",
    "        if_(n,2)\n",
    "        n += 1\n",
    "    if lst19[i] % 3 == 0 and lst19[i] != 3:\n",
    "        if_(n,3)\n",
    "        n += 1\n",
    "    if lst19[i] % 5 == 0 and lst19[i] != 5:\n",
    "        if_(n,5)\n",
    "        n += 1\n",
    "    if lst19[i] % 7 == 0 and lst19[i] != 7:\n",
    "        if_(n,7)\n",
    "        n += 1\n",
    "lst19"
   ]
  },
  {
   "cell_type": "code",
   "execution_count": 139,
   "id": "5c8ad1cb",
   "metadata": {},
   "outputs": [
    {
     "data": {
      "text/plain": [
       "3"
      ]
     },
     "execution_count": 139,
     "metadata": {},
     "output_type": "execute_result"
    }
   ],
   "source": [
    "# 12)\n",
    "\n",
    "lst20 = [3,6,7,12]\n",
    "min(lst20)"
   ]
  },
  {
   "cell_type": "code",
   "execution_count": 140,
   "id": "c110314b",
   "metadata": {},
   "outputs": [
    {
     "data": {
      "text/plain": [
       "0"
      ]
     },
     "execution_count": 140,
     "metadata": {},
     "output_type": "execute_result"
    }
   ],
   "source": [
    "# 13)\n",
    "\n",
    "lst20 = [3,6,7,12]\n",
    "lst20.index(min(lst20))"
   ]
  },
  {
   "cell_type": "code",
   "execution_count": 143,
   "id": "8d53a218",
   "metadata": {},
   "outputs": [
    {
     "data": {
      "text/plain": [
       "4"
      ]
     },
     "execution_count": 143,
     "metadata": {},
     "output_type": "execute_result"
    }
   ],
   "source": [
    "# 14)\n",
    "\n",
    "lst21 = [1, 23, True, 'Hi!', 1, 3.4, 1, False]\n",
    "ind = [i for i in range(len(lst21)) if lst21[i] == 1]\n",
    "ind[-2]"
   ]
  },
  {
   "cell_type": "code",
   "execution_count": null,
   "id": "8e12253d",
   "metadata": {},
   "outputs": [],
   "source": [
    "# 15)\n",
    "\n",
    "def matrix():\n",
    "    \n",
    "    arr1 = []\n",
    "    arr2 = []\n",
    "    while True:\n",
    "        try:\n",
    "            a1 = int(input('Введите количество строк в матрице arr1: '))\n",
    "            b1 = int(input('Веедите количество столбцов в матрице arr1: '))\n",
    "            a2 = int(input('Введите количество строк в матрице arr2: '))\n",
    "            b2 = int(input('Веедите количество столбцов в матрице arr2: '))\n",
    "            def inpt(a, b):\n",
    "                j = 0\n",
    "                for i in range(a):\n",
    "                    while j <= b:\n",
    "                            try:\n",
    "                                arr1[i][j] = int(input('Введите число: '))\n",
    "                                j += 1\n",
    "                            except ValueError:\n",
    "                                print('Неверный ввод')\n",
    "                                continue\n",
    "            break\n",
    "        except ValueError:\n",
    "            print('Неверный ввод')\n",
    "            continue \n",
    "    inpt(a1, b1)\n",
    "    inpt(a2, b2)\n",
    "    print(arr1, end = ' ')\n",
    "    print(arr2, end = ' ')\n",
    "    \n",
    "    if b1 == a2:\n",
    "        for i in range(len(arr1)):\n",
    "            for j in range(len(arr1[i])):\n",
    "                for n in range(len(arr2)):\n",
    "                    for m in range(len(arr2[n])):\n",
    "                        \n"
   ]
  }
 ],
 "metadata": {
  "kernelspec": {
   "display_name": "Python 3 (ipykernel)",
   "language": "python",
   "name": "python3"
  },
  "language_info": {
   "codemirror_mode": {
    "name": "ipython",
    "version": 3
   },
   "file_extension": ".py",
   "mimetype": "text/x-python",
   "name": "python",
   "nbconvert_exporter": "python",
   "pygments_lexer": "ipython3",
   "version": "3.11.4"
  }
 },
 "nbformat": 4,
 "nbformat_minor": 5
}
