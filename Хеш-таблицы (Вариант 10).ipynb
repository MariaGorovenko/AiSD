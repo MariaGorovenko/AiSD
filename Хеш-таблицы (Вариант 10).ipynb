{
 "cells": [
  {
   "cell_type": "markdown",
   "id": "ddb69cf2",
   "metadata": {},
   "source": [
    "### 10"
   ]
  },
  {
   "cell_type": "markdown",
   "id": "76b48595",
   "metadata": {},
   "source": [
    "а) Создать класс «Фильм» с полями «Название», «Режиссер», «Год выпуска» и «Жанр». Создать хеш-таблицу для хранения объектов класса «Фильм» по ключу — названию фильма."
   ]
  },
  {
   "cell_type": "code",
   "execution_count": 1,
   "id": "f9c61015",
   "metadata": {},
   "outputs": [],
   "source": [
    "class Film:\n",
    "    def __init__(self, title, director, year, genre):\n",
    "        self.title = title\n",
    "        self.director = director\n",
    "        self.year = year\n",
    "        self.genre = genre\n",
    "        \n",
    "    def __str__(self):\n",
    "        return f'Film {self.title} directed by {self.director} {self.year} release genre {self.genre} \\n'"
   ]
  },
  {
   "cell_type": "code",
   "execution_count": 2,
   "id": "8316d6bd",
   "metadata": {},
   "outputs": [],
   "source": [
    "class HashTable:\n",
    "    def __init__(self, size=11):\n",
    "        self.table = {}\n",
    "        self.size = size\n",
    "        \n",
    "    def _hash(self, film_name): # функция для хеширования\n",
    "        return hash(str(film_name)) % self.size\n",
    "    \n",
    "    def add(self, film_title): # функция для добавление элементов в хеш-таблицу\n",
    "        index = self._hash(film_title)\n",
    "        self.table[index] = film_title\n",
    "    \n",
    "    def __str__(self): # функция для вывода хеш-таблицы\n",
    "        result = \"\"\n",
    "        for i in self.table.keys():\n",
    "            result += f'{i} - {self.table[i]}\\n'\n",
    "        return result"
   ]
  },
  {
   "cell_type": "code",
   "execution_count": 3,
   "id": "176a59b8",
   "metadata": {},
   "outputs": [
    {
     "name": "stdout",
     "output_type": "stream",
     "text": [
      "Film Inception directed by Christopher Nolan 2010 release genre Sci-Fi \n",
      "\n",
      "Film The Dark Knight directed by Christopher Nolan 2008 release genre Action \n",
      "\n",
      "Film Interstellar directed by Christopher Nolan 2014 release genre Sci-Fi \n",
      "\n",
      "2 - Inception\n",
      "8 - The Dark Knight\n",
      "4 - Interstellar\n",
      "\n"
     ]
    }
   ],
   "source": [
    "films = HashTable() # создаем хеш-таблицу\n",
    "\n",
    "list_of_films = [Film(\"Inception\", \"Christopher Nolan\", 2010, \"Sci-Fi\"),\n",
    "                 Film(\"The Dark Knight\", \"Christopher Nolan\", 2008, \"Action\"),\n",
    "                 Film(\"Interstellar\", \"Christopher Nolan\", 2014, \"Sci-Fi\")]\n",
    "\n",
    "for film in list_of_films: # выводим информацию о фильмах\n",
    "    print(film)\n",
    "    \n",
    "for film in list_of_films: # добавляем фильмы в хеш-таблицу\n",
    "    films.add(film.title)\n",
    "\n",
    "print(films) # выводим хеш-таблицу"
   ]
  },
  {
   "cell_type": "markdown",
   "id": "5fe2ee41",
   "metadata": {},
   "source": [
    "б) Написать функцию для нахождения элемента в хеш-таблице, который наиболее близок по значению к заданному числу."
   ]
  },
  {
   "cell_type": "code",
   "execution_count": 4,
   "id": "7087e6ef",
   "metadata": {},
   "outputs": [
    {
     "name": "stdout",
     "output_type": "stream",
     "text": [
      "Ближайший фильм к 'Inseption' по названию: Inception\n"
     ]
    }
   ],
   "source": [
    "def find_closest_film(hash_table, target_title):\n",
    "    closest_film = None\n",
    "    min_difference = float('inf') # минимальная разность между названиями фильмов \n",
    "    #(вначале равна плюс бесконечности)\n",
    "\n",
    "    for index, film_title in hash_table.items():\n",
    "        difference = abs(len(film_title) - len(target_title))\n",
    "        if difference < min_difference:\n",
    "            min_difference = difference\n",
    "            closest_film = film_title\n",
    "\n",
    "    return closest_film\n",
    "\n",
    "target_title = \"Inseption\"  # Неверно написанное название фильма\n",
    "closest_film = find_closest_film(films.table, target_title)\n",
    "print(f\"Ближайший фильм к '{target_title}' по названию: {closest_film}\")"
   ]
  },
  {
   "cell_type": "markdown",
   "id": "0e41f6e5",
   "metadata": {},
   "source": [
    "в) Реализуйте хеш-таблицу для хранения информации о пациентах в больнице. Ключом является номер медицинской карты, значение — объект, содержащий информацию о пациенте (ФИО, диагноз, лечение и т.д.). Используйте метод разрешения коллизий методом открытой адресации с квадратичным пробированием."
   ]
  },
  {
   "cell_type": "code",
   "execution_count": 5,
   "id": "f12781f0",
   "metadata": {},
   "outputs": [],
   "source": [
    "class Patient:\n",
    "    def __init__(self, medical_record_number, name, diagnosis, treatment):\n",
    "        self.medical_record_number = medical_record_number\n",
    "        self.name = name\n",
    "        self.diagnosis = diagnosis\n",
    "        self.treatment = treatment"
   ]
  },
  {
   "cell_type": "code",
   "execution_count": 6,
   "id": "24c9040a",
   "metadata": {},
   "outputs": [],
   "source": [
    "class HospitalHashTable:\n",
    "    def __init__(self, size):\n",
    "        self.size = size\n",
    "        self.table = [None] * size\n",
    "\n",
    "    def hash_function(self, key): # функция хеширования\n",
    "        return key % self.size\n",
    "\n",
    "    # Две функции для разрешения коллизий \n",
    "    # методом открытой адресации с квадратичным пробированием  \n",
    "    def quadratic_probe(self, index, attempt):\n",
    "        return (index + attempt**2) % self.size\n",
    "\n",
    "    def insert(self, patient):\n",
    "        index = self.hash_function(patient.medical_record_number)\n",
    "        if self.table[index] is None:\n",
    "            self.table[index] = patient\n",
    "        else:\n",
    "            attempt = 1\n",
    "            while True:\n",
    "                new_index = self.quadratic_probe(index, attempt)\n",
    "                if self.table[new_index] is None:\n",
    "                    self.table[new_index] = patient\n",
    "                    break\n",
    "                attempt += 1\n",
    "\n",
    "    def search(self, medical_record_number): # функция для вывода информации о пациенте\n",
    "        index = self.hash_function(medical_record_number)\n",
    "        if self.table[index] is not None and self.table[index].medical_record_number == medical_record_number:\n",
    "            return self.table[index]\n",
    "        else:\n",
    "            attempt = 1\n",
    "            while True:\n",
    "                new_index = self.quadratic_probe(index, attempt)\n",
    "                if self.table[new_index] is not None and self.table[new_index].medical_record_number == medical_record_number:\n",
    "                    return self.table[new_index]\n",
    "                attempt += 1\n",
    "                if attempt >= self.size:  # Предотвращаем зацикливание\n",
    "                    break\n",
    "        return None"
   ]
  },
  {
   "cell_type": "code",
   "execution_count": 7,
   "id": "8e42a1d6",
   "metadata": {},
   "outputs": [
    {
     "name": "stdout",
     "output_type": "stream",
     "text": [
      "Найден пациент: Петров Петр, Диагноз: Перелом\n"
     ]
    }
   ],
   "source": [
    "hospital_table = HospitalHashTable(10)\n",
    "\n",
    "patient1 = Patient(12345, \"Иванов Иван\", \"Грипп\", \"Антибиотики\")\n",
    "patient2 = Patient(54321, \"Петров Петр\", \"Перелом\", \"Гипс\")\n",
    "patient3 = Patient(98765, \"Сидоров Сидор\", \"Ангина\", \"Отдых\")\n",
    "\n",
    "hospital_table.insert(patient1)\n",
    "hospital_table.insert(patient2)\n",
    "hospital_table.insert(patient3)\n",
    "\n",
    "# Поиск пациента по номеру медицинской карты\n",
    "found_patient = hospital_table.search(54321)\n",
    "if found_patient:\n",
    "    print(f\"Найден пациент: {found_patient.name}, Диагноз: {found_patient.diagnosis}\")\n",
    "else:\n",
    "    print(\"Пациент не найден.\")"
   ]
  },
  {
   "cell_type": "code",
   "execution_count": null,
   "id": "fb7f8ff2",
   "metadata": {},
   "outputs": [],
   "source": []
  },
  {
   "cell_type": "code",
   "execution_count": 8,
   "id": "9fa08136",
   "metadata": {},
   "outputs": [],
   "source": [
    "def to_key(s=None):\n",
    "    '''Функция для генерации ключей.\n",
    "    Если обект не задан, возвращает максимальное значение ключа'''\n",
    "    \n",
    "    if s is None:\n",
    "        s = 'z'\n",
    "    return ord(s) - ord('a') + 1"
   ]
  },
  {
   "cell_type": "code",
   "execution_count": 9,
   "id": "ba49d893",
   "metadata": {},
   "outputs": [
    {
     "data": {
      "text/plain": [
       "1"
      ]
     },
     "execution_count": 9,
     "metadata": {},
     "output_type": "execute_result"
    }
   ],
   "source": [
    "to_key('a')"
   ]
  },
  {
   "cell_type": "code",
   "execution_count": 10,
   "id": "0b00c928",
   "metadata": {},
   "outputs": [],
   "source": [
    "def seq_to_key(seq):\n",
    "    '''Функция для генерации ключа \n",
    "    из последовательности символов.'''\n",
    "    \n",
    "    res = 0\n",
    "    n = to_key()\n",
    "    for i,el in enumerate(seq):\n",
    "        assert 0 <= to_key(el) <= n\n",
    "        res += to_key(el) * n ** i\n",
    "    return res"
   ]
  },
  {
   "cell_type": "code",
   "execution_count": 11,
   "id": "0eb1983b",
   "metadata": {},
   "outputs": [
    {
     "data": {
      "text/plain": [
       "2081"
      ]
     },
     "execution_count": 11,
     "metadata": {},
     "output_type": "execute_result"
    }
   ],
   "source": [
    "seq_to_key('abc')"
   ]
  },
  {
   "cell_type": "code",
   "execution_count": 12,
   "id": "a5a2fed9",
   "metadata": {
    "scrolled": true
   },
   "outputs": [
    {
     "data": {
      "text/plain": [
       "[0, 1, 26, 27, 54, 53, 702, 703]"
      ]
     },
     "execution_count": 12,
     "metadata": {},
     "output_type": "execute_result"
    }
   ],
   "source": [
    "[seq_to_key(x) for x in ['', 'a', 'z', 'aa', 'bb', 'ab', 'zz', 'aaa']]"
   ]
  },
  {
   "cell_type": "code",
   "execution_count": null,
   "id": "fcd4c237",
   "metadata": {},
   "outputs": [],
   "source": []
  }
 ],
 "metadata": {
  "kernelspec": {
   "display_name": "Python 3 (ipykernel)",
   "language": "python",
   "name": "python3"
  },
  "language_info": {
   "codemirror_mode": {
    "name": "ipython",
    "version": 3
   },
   "file_extension": ".py",
   "mimetype": "text/x-python",
   "name": "python",
   "nbconvert_exporter": "python",
   "pygments_lexer": "ipython3",
   "version": "3.11.4"
  }
 },
 "nbformat": 4,
 "nbformat_minor": 5
}
